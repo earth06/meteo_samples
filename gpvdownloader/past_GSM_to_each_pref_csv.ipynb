{
 "cells": [
  {
   "cell_type": "code",
   "execution_count": 1,
   "id": "82d389bb-8064-4b8a-832b-8438715e8e01",
   "metadata": {},
   "outputs": [],
   "source": [
    "import pandas as pd\n",
    "import convert_GSM_to_pref_weather\n",
    "import os"
   ]
  },
  {
   "cell_type": "code",
   "execution_count": 2,
   "id": "5e062a2a-dd39-4c4b-b38b-43c375d333c4",
   "metadata": {},
   "outputs": [],
   "source": [
    "init_dates=pd.date_range(\"2021-11-01\",\"2022-02-28\", freq=\"D\")\n",
    "CONFIG=convert_GSM_to_pref_weather.CONFIG"
   ]
  },
  {
   "cell_type": "code",
   "execution_count": 6,
   "id": "0ddc71b1-b5ea-4359-9087-321d0ffb728b",
   "metadata": {},
   "outputs": [],
   "source": [
    "for init_date in init_dates:\n",
    "    init_time=init_date.strftime(\"%Y%m%d1200\")\n",
    "    #出力処理\n",
    "    init_time=pd.to_datetime(init_time,format=\"%Y%m%d%H%M\")+\\\n",
    "            pd.offsets.Hour(9)+ pd.offsets.Hour(1)\n",
    "    sdate=init_time.strftime(\"%Y%m%d%H%M00JST\")\n",
    "    \n",
    "    for tdfk in dfdict.keys():\n",
    "        os.makedirs(CONFIG[\"GSM_CSVDIR\"]+f\"/{tdfk}/{init_time.year:04d}/{init_time.month:02d}\", exist_ok=True)\n",
    "        #tmp=dfdict[tdfk]\n",
    "        #tmp.to_csv(CONFIG[\"GSM_CSVDIR\"]+f\"{tdfk}/{init_time.year:04d}/{init_time.month:02d}/GSM_{tdfk}_{sdate}.csv\")\n",
    "    #print(init_date, \"end\")"
   ]
  },
  {
   "cell_type": "code",
   "execution_count": 3,
   "id": "a8a5255f-c327-4751-8ce3-72b7340b3261",
   "metadata": {},
   "outputs": [
    {
     "name": "stderr",
     "output_type": "stream",
     "text": [
      "/home/oonishi/Git/JEPXbatch/src/Downloader/meteo/scripts/convert_GSM_to_pref_weather.py:202: FutureWarning: xarray.ufuncs is deprecated. Instead, use numpy ufuncs directly.\n",
      "  ds1yr[\"wind\"]=xr.ufuncs.sqrt(ds1yr[\"u2m\"]**2 + ds1yr[\"v2m\"]**2)\n",
      "/home/oonishi/miniconda3/envs/ml/lib/python3.8/site-packages/xarray/core/dataarray.py:3068: FutureWarning: xarray.ufuncs is deprecated. Instead, use numpy ufuncs directly.\n",
      "  da = self.__array_wrap__(f(self.variable.data, *args, **kwargs))\n"
     ]
    },
    {
     "name": "stdout",
     "output_type": "stream",
     "text": [
      "2021-11-01 00:00:00 end\n"
     ]
    },
    {
     "name": "stderr",
     "output_type": "stream",
     "text": [
      "/home/oonishi/Git/JEPXbatch/src/Downloader/meteo/scripts/convert_GSM_to_pref_weather.py:202: FutureWarning: xarray.ufuncs is deprecated. Instead, use numpy ufuncs directly.\n",
      "  ds1yr[\"wind\"]=xr.ufuncs.sqrt(ds1yr[\"u2m\"]**2 + ds1yr[\"v2m\"]**2)\n",
      "/home/oonishi/miniconda3/envs/ml/lib/python3.8/site-packages/xarray/core/dataarray.py:3068: FutureWarning: xarray.ufuncs is deprecated. Instead, use numpy ufuncs directly.\n",
      "  da = self.__array_wrap__(f(self.variable.data, *args, **kwargs))\n"
     ]
    },
    {
     "name": "stdout",
     "output_type": "stream",
     "text": [
      "2021-11-02 00:00:00 end\n"
     ]
    },
    {
     "name": "stderr",
     "output_type": "stream",
     "text": [
      "/home/oonishi/Git/JEPXbatch/src/Downloader/meteo/scripts/convert_GSM_to_pref_weather.py:202: FutureWarning: xarray.ufuncs is deprecated. Instead, use numpy ufuncs directly.\n",
      "  ds1yr[\"wind\"]=xr.ufuncs.sqrt(ds1yr[\"u2m\"]**2 + ds1yr[\"v2m\"]**2)\n",
      "/home/oonishi/miniconda3/envs/ml/lib/python3.8/site-packages/xarray/core/dataarray.py:3068: FutureWarning: xarray.ufuncs is deprecated. Instead, use numpy ufuncs directly.\n",
      "  da = self.__array_wrap__(f(self.variable.data, *args, **kwargs))\n"
     ]
    },
    {
     "name": "stdout",
     "output_type": "stream",
     "text": [
      "2021-11-03 00:00:00 end\n"
     ]
    },
    {
     "name": "stderr",
     "output_type": "stream",
     "text": [
      "/home/oonishi/Git/JEPXbatch/src/Downloader/meteo/scripts/convert_GSM_to_pref_weather.py:202: FutureWarning: xarray.ufuncs is deprecated. Instead, use numpy ufuncs directly.\n",
      "  ds1yr[\"wind\"]=xr.ufuncs.sqrt(ds1yr[\"u2m\"]**2 + ds1yr[\"v2m\"]**2)\n",
      "/home/oonishi/miniconda3/envs/ml/lib/python3.8/site-packages/xarray/core/dataarray.py:3068: FutureWarning: xarray.ufuncs is deprecated. Instead, use numpy ufuncs directly.\n",
      "  da = self.__array_wrap__(f(self.variable.data, *args, **kwargs))\n"
     ]
    },
    {
     "name": "stdout",
     "output_type": "stream",
     "text": [
      "2021-11-04 00:00:00 end\n"
     ]
    },
    {
     "name": "stderr",
     "output_type": "stream",
     "text": [
      "/home/oonishi/Git/JEPXbatch/src/Downloader/meteo/scripts/convert_GSM_to_pref_weather.py:202: FutureWarning: xarray.ufuncs is deprecated. Instead, use numpy ufuncs directly.\n",
      "  ds1yr[\"wind\"]=xr.ufuncs.sqrt(ds1yr[\"u2m\"]**2 + ds1yr[\"v2m\"]**2)\n",
      "/home/oonishi/miniconda3/envs/ml/lib/python3.8/site-packages/xarray/core/dataarray.py:3068: FutureWarning: xarray.ufuncs is deprecated. Instead, use numpy ufuncs directly.\n",
      "  da = self.__array_wrap__(f(self.variable.data, *args, **kwargs))\n"
     ]
    },
    {
     "name": "stdout",
     "output_type": "stream",
     "text": [
      "2021-11-05 00:00:00 end\n"
     ]
    },
    {
     "name": "stderr",
     "output_type": "stream",
     "text": [
      "/home/oonishi/Git/JEPXbatch/src/Downloader/meteo/scripts/convert_GSM_to_pref_weather.py:202: FutureWarning: xarray.ufuncs is deprecated. Instead, use numpy ufuncs directly.\n",
      "  ds1yr[\"wind\"]=xr.ufuncs.sqrt(ds1yr[\"u2m\"]**2 + ds1yr[\"v2m\"]**2)\n",
      "/home/oonishi/miniconda3/envs/ml/lib/python3.8/site-packages/xarray/core/dataarray.py:3068: FutureWarning: xarray.ufuncs is deprecated. Instead, use numpy ufuncs directly.\n",
      "  da = self.__array_wrap__(f(self.variable.data, *args, **kwargs))\n"
     ]
    },
    {
     "name": "stdout",
     "output_type": "stream",
     "text": [
      "2021-11-06 00:00:00 end\n"
     ]
    },
    {
     "name": "stderr",
     "output_type": "stream",
     "text": [
      "/home/oonishi/Git/JEPXbatch/src/Downloader/meteo/scripts/convert_GSM_to_pref_weather.py:202: FutureWarning: xarray.ufuncs is deprecated. Instead, use numpy ufuncs directly.\n",
      "  ds1yr[\"wind\"]=xr.ufuncs.sqrt(ds1yr[\"u2m\"]**2 + ds1yr[\"v2m\"]**2)\n",
      "/home/oonishi/miniconda3/envs/ml/lib/python3.8/site-packages/xarray/core/dataarray.py:3068: FutureWarning: xarray.ufuncs is deprecated. Instead, use numpy ufuncs directly.\n",
      "  da = self.__array_wrap__(f(self.variable.data, *args, **kwargs))\n"
     ]
    },
    {
     "name": "stdout",
     "output_type": "stream",
     "text": [
      "2021-11-07 00:00:00 end\n"
     ]
    },
    {
     "name": "stderr",
     "output_type": "stream",
     "text": [
      "/home/oonishi/Git/JEPXbatch/src/Downloader/meteo/scripts/convert_GSM_to_pref_weather.py:202: FutureWarning: xarray.ufuncs is deprecated. Instead, use numpy ufuncs directly.\n",
      "  ds1yr[\"wind\"]=xr.ufuncs.sqrt(ds1yr[\"u2m\"]**2 + ds1yr[\"v2m\"]**2)\n",
      "/home/oonishi/miniconda3/envs/ml/lib/python3.8/site-packages/xarray/core/dataarray.py:3068: FutureWarning: xarray.ufuncs is deprecated. Instead, use numpy ufuncs directly.\n",
      "  da = self.__array_wrap__(f(self.variable.data, *args, **kwargs))\n"
     ]
    },
    {
     "name": "stdout",
     "output_type": "stream",
     "text": [
      "2021-11-08 00:00:00 end\n"
     ]
    },
    {
     "name": "stderr",
     "output_type": "stream",
     "text": [
      "/home/oonishi/Git/JEPXbatch/src/Downloader/meteo/scripts/convert_GSM_to_pref_weather.py:202: FutureWarning: xarray.ufuncs is deprecated. Instead, use numpy ufuncs directly.\n",
      "  ds1yr[\"wind\"]=xr.ufuncs.sqrt(ds1yr[\"u2m\"]**2 + ds1yr[\"v2m\"]**2)\n",
      "/home/oonishi/miniconda3/envs/ml/lib/python3.8/site-packages/xarray/core/dataarray.py:3068: FutureWarning: xarray.ufuncs is deprecated. Instead, use numpy ufuncs directly.\n",
      "  da = self.__array_wrap__(f(self.variable.data, *args, **kwargs))\n"
     ]
    },
    {
     "name": "stdout",
     "output_type": "stream",
     "text": [
      "2021-11-09 00:00:00 end\n"
     ]
    },
    {
     "name": "stderr",
     "output_type": "stream",
     "text": [
      "/home/oonishi/Git/JEPXbatch/src/Downloader/meteo/scripts/convert_GSM_to_pref_weather.py:202: FutureWarning: xarray.ufuncs is deprecated. Instead, use numpy ufuncs directly.\n",
      "  ds1yr[\"wind\"]=xr.ufuncs.sqrt(ds1yr[\"u2m\"]**2 + ds1yr[\"v2m\"]**2)\n",
      "/home/oonishi/miniconda3/envs/ml/lib/python3.8/site-packages/xarray/core/dataarray.py:3068: FutureWarning: xarray.ufuncs is deprecated. Instead, use numpy ufuncs directly.\n",
      "  da = self.__array_wrap__(f(self.variable.data, *args, **kwargs))\n"
     ]
    },
    {
     "name": "stdout",
     "output_type": "stream",
     "text": [
      "2021-11-10 00:00:00 end\n"
     ]
    },
    {
     "name": "stderr",
     "output_type": "stream",
     "text": [
      "/home/oonishi/Git/JEPXbatch/src/Downloader/meteo/scripts/convert_GSM_to_pref_weather.py:202: FutureWarning: xarray.ufuncs is deprecated. Instead, use numpy ufuncs directly.\n",
      "  ds1yr[\"wind\"]=xr.ufuncs.sqrt(ds1yr[\"u2m\"]**2 + ds1yr[\"v2m\"]**2)\n",
      "/home/oonishi/miniconda3/envs/ml/lib/python3.8/site-packages/xarray/core/dataarray.py:3068: FutureWarning: xarray.ufuncs is deprecated. Instead, use numpy ufuncs directly.\n",
      "  da = self.__array_wrap__(f(self.variable.data, *args, **kwargs))\n"
     ]
    },
    {
     "name": "stdout",
     "output_type": "stream",
     "text": [
      "2021-11-11 00:00:00 end\n"
     ]
    },
    {
     "name": "stderr",
     "output_type": "stream",
     "text": [
      "/home/oonishi/Git/JEPXbatch/src/Downloader/meteo/scripts/convert_GSM_to_pref_weather.py:202: FutureWarning: xarray.ufuncs is deprecated. Instead, use numpy ufuncs directly.\n",
      "  ds1yr[\"wind\"]=xr.ufuncs.sqrt(ds1yr[\"u2m\"]**2 + ds1yr[\"v2m\"]**2)\n",
      "/home/oonishi/miniconda3/envs/ml/lib/python3.8/site-packages/xarray/core/dataarray.py:3068: FutureWarning: xarray.ufuncs is deprecated. Instead, use numpy ufuncs directly.\n",
      "  da = self.__array_wrap__(f(self.variable.data, *args, **kwargs))\n"
     ]
    },
    {
     "name": "stdout",
     "output_type": "stream",
     "text": [
      "2021-11-12 00:00:00 end\n"
     ]
    },
    {
     "name": "stderr",
     "output_type": "stream",
     "text": [
      "/home/oonishi/Git/JEPXbatch/src/Downloader/meteo/scripts/convert_GSM_to_pref_weather.py:202: FutureWarning: xarray.ufuncs is deprecated. Instead, use numpy ufuncs directly.\n",
      "  ds1yr[\"wind\"]=xr.ufuncs.sqrt(ds1yr[\"u2m\"]**2 + ds1yr[\"v2m\"]**2)\n",
      "/home/oonishi/miniconda3/envs/ml/lib/python3.8/site-packages/xarray/core/dataarray.py:3068: FutureWarning: xarray.ufuncs is deprecated. Instead, use numpy ufuncs directly.\n",
      "  da = self.__array_wrap__(f(self.variable.data, *args, **kwargs))\n"
     ]
    },
    {
     "name": "stdout",
     "output_type": "stream",
     "text": [
      "2021-11-13 00:00:00 end\n"
     ]
    },
    {
     "name": "stderr",
     "output_type": "stream",
     "text": [
      "/home/oonishi/Git/JEPXbatch/src/Downloader/meteo/scripts/convert_GSM_to_pref_weather.py:202: FutureWarning: xarray.ufuncs is deprecated. Instead, use numpy ufuncs directly.\n",
      "  ds1yr[\"wind\"]=xr.ufuncs.sqrt(ds1yr[\"u2m\"]**2 + ds1yr[\"v2m\"]**2)\n",
      "/home/oonishi/miniconda3/envs/ml/lib/python3.8/site-packages/xarray/core/dataarray.py:3068: FutureWarning: xarray.ufuncs is deprecated. Instead, use numpy ufuncs directly.\n",
      "  da = self.__array_wrap__(f(self.variable.data, *args, **kwargs))\n"
     ]
    },
    {
     "name": "stdout",
     "output_type": "stream",
     "text": [
      "2021-11-14 00:00:00 end\n"
     ]
    },
    {
     "name": "stderr",
     "output_type": "stream",
     "text": [
      "/home/oonishi/Git/JEPXbatch/src/Downloader/meteo/scripts/convert_GSM_to_pref_weather.py:202: FutureWarning: xarray.ufuncs is deprecated. Instead, use numpy ufuncs directly.\n",
      "  ds1yr[\"wind\"]=xr.ufuncs.sqrt(ds1yr[\"u2m\"]**2 + ds1yr[\"v2m\"]**2)\n",
      "/home/oonishi/miniconda3/envs/ml/lib/python3.8/site-packages/xarray/core/dataarray.py:3068: FutureWarning: xarray.ufuncs is deprecated. Instead, use numpy ufuncs directly.\n",
      "  da = self.__array_wrap__(f(self.variable.data, *args, **kwargs))\n"
     ]
    },
    {
     "name": "stdout",
     "output_type": "stream",
     "text": [
      "2021-11-15 00:00:00 end\n"
     ]
    },
    {
     "name": "stderr",
     "output_type": "stream",
     "text": [
      "/home/oonishi/Git/JEPXbatch/src/Downloader/meteo/scripts/convert_GSM_to_pref_weather.py:202: FutureWarning: xarray.ufuncs is deprecated. Instead, use numpy ufuncs directly.\n",
      "  ds1yr[\"wind\"]=xr.ufuncs.sqrt(ds1yr[\"u2m\"]**2 + ds1yr[\"v2m\"]**2)\n",
      "/home/oonishi/miniconda3/envs/ml/lib/python3.8/site-packages/xarray/core/dataarray.py:3068: FutureWarning: xarray.ufuncs is deprecated. Instead, use numpy ufuncs directly.\n",
      "  da = self.__array_wrap__(f(self.variable.data, *args, **kwargs))\n"
     ]
    },
    {
     "name": "stdout",
     "output_type": "stream",
     "text": [
      "2021-11-16 00:00:00 end\n"
     ]
    },
    {
     "name": "stderr",
     "output_type": "stream",
     "text": [
      "/home/oonishi/Git/JEPXbatch/src/Downloader/meteo/scripts/convert_GSM_to_pref_weather.py:202: FutureWarning: xarray.ufuncs is deprecated. Instead, use numpy ufuncs directly.\n",
      "  ds1yr[\"wind\"]=xr.ufuncs.sqrt(ds1yr[\"u2m\"]**2 + ds1yr[\"v2m\"]**2)\n",
      "/home/oonishi/miniconda3/envs/ml/lib/python3.8/site-packages/xarray/core/dataarray.py:3068: FutureWarning: xarray.ufuncs is deprecated. Instead, use numpy ufuncs directly.\n",
      "  da = self.__array_wrap__(f(self.variable.data, *args, **kwargs))\n"
     ]
    },
    {
     "name": "stdout",
     "output_type": "stream",
     "text": [
      "2021-11-17 00:00:00 end\n"
     ]
    },
    {
     "name": "stderr",
     "output_type": "stream",
     "text": [
      "/home/oonishi/Git/JEPXbatch/src/Downloader/meteo/scripts/convert_GSM_to_pref_weather.py:202: FutureWarning: xarray.ufuncs is deprecated. Instead, use numpy ufuncs directly.\n",
      "  ds1yr[\"wind\"]=xr.ufuncs.sqrt(ds1yr[\"u2m\"]**2 + ds1yr[\"v2m\"]**2)\n",
      "/home/oonishi/miniconda3/envs/ml/lib/python3.8/site-packages/xarray/core/dataarray.py:3068: FutureWarning: xarray.ufuncs is deprecated. Instead, use numpy ufuncs directly.\n",
      "  da = self.__array_wrap__(f(self.variable.data, *args, **kwargs))\n"
     ]
    },
    {
     "name": "stdout",
     "output_type": "stream",
     "text": [
      "2021-11-18 00:00:00 end\n"
     ]
    },
    {
     "name": "stderr",
     "output_type": "stream",
     "text": [
      "/home/oonishi/Git/JEPXbatch/src/Downloader/meteo/scripts/convert_GSM_to_pref_weather.py:202: FutureWarning: xarray.ufuncs is deprecated. Instead, use numpy ufuncs directly.\n",
      "  ds1yr[\"wind\"]=xr.ufuncs.sqrt(ds1yr[\"u2m\"]**2 + ds1yr[\"v2m\"]**2)\n",
      "/home/oonishi/miniconda3/envs/ml/lib/python3.8/site-packages/xarray/core/dataarray.py:3068: FutureWarning: xarray.ufuncs is deprecated. Instead, use numpy ufuncs directly.\n",
      "  da = self.__array_wrap__(f(self.variable.data, *args, **kwargs))\n"
     ]
    },
    {
     "name": "stdout",
     "output_type": "stream",
     "text": [
      "2021-11-19 00:00:00 end\n"
     ]
    },
    {
     "name": "stderr",
     "output_type": "stream",
     "text": [
      "/home/oonishi/Git/JEPXbatch/src/Downloader/meteo/scripts/convert_GSM_to_pref_weather.py:202: FutureWarning: xarray.ufuncs is deprecated. Instead, use numpy ufuncs directly.\n",
      "  ds1yr[\"wind\"]=xr.ufuncs.sqrt(ds1yr[\"u2m\"]**2 + ds1yr[\"v2m\"]**2)\n",
      "/home/oonishi/miniconda3/envs/ml/lib/python3.8/site-packages/xarray/core/dataarray.py:3068: FutureWarning: xarray.ufuncs is deprecated. Instead, use numpy ufuncs directly.\n",
      "  da = self.__array_wrap__(f(self.variable.data, *args, **kwargs))\n"
     ]
    },
    {
     "name": "stdout",
     "output_type": "stream",
     "text": [
      "2021-11-20 00:00:00 end\n"
     ]
    },
    {
     "name": "stderr",
     "output_type": "stream",
     "text": [
      "/home/oonishi/Git/JEPXbatch/src/Downloader/meteo/scripts/convert_GSM_to_pref_weather.py:202: FutureWarning: xarray.ufuncs is deprecated. Instead, use numpy ufuncs directly.\n",
      "  ds1yr[\"wind\"]=xr.ufuncs.sqrt(ds1yr[\"u2m\"]**2 + ds1yr[\"v2m\"]**2)\n",
      "/home/oonishi/miniconda3/envs/ml/lib/python3.8/site-packages/xarray/core/dataarray.py:3068: FutureWarning: xarray.ufuncs is deprecated. Instead, use numpy ufuncs directly.\n",
      "  da = self.__array_wrap__(f(self.variable.data, *args, **kwargs))\n"
     ]
    },
    {
     "name": "stdout",
     "output_type": "stream",
     "text": [
      "2021-11-21 00:00:00 end\n"
     ]
    },
    {
     "name": "stderr",
     "output_type": "stream",
     "text": [
      "/home/oonishi/Git/JEPXbatch/src/Downloader/meteo/scripts/convert_GSM_to_pref_weather.py:202: FutureWarning: xarray.ufuncs is deprecated. Instead, use numpy ufuncs directly.\n",
      "  ds1yr[\"wind\"]=xr.ufuncs.sqrt(ds1yr[\"u2m\"]**2 + ds1yr[\"v2m\"]**2)\n",
      "/home/oonishi/miniconda3/envs/ml/lib/python3.8/site-packages/xarray/core/dataarray.py:3068: FutureWarning: xarray.ufuncs is deprecated. Instead, use numpy ufuncs directly.\n",
      "  da = self.__array_wrap__(f(self.variable.data, *args, **kwargs))\n"
     ]
    },
    {
     "name": "stdout",
     "output_type": "stream",
     "text": [
      "2021-11-22 00:00:00 end\n"
     ]
    },
    {
     "name": "stderr",
     "output_type": "stream",
     "text": [
      "/home/oonishi/Git/JEPXbatch/src/Downloader/meteo/scripts/convert_GSM_to_pref_weather.py:202: FutureWarning: xarray.ufuncs is deprecated. Instead, use numpy ufuncs directly.\n",
      "  ds1yr[\"wind\"]=xr.ufuncs.sqrt(ds1yr[\"u2m\"]**2 + ds1yr[\"v2m\"]**2)\n",
      "/home/oonishi/miniconda3/envs/ml/lib/python3.8/site-packages/xarray/core/dataarray.py:3068: FutureWarning: xarray.ufuncs is deprecated. Instead, use numpy ufuncs directly.\n",
      "  da = self.__array_wrap__(f(self.variable.data, *args, **kwargs))\n"
     ]
    },
    {
     "name": "stdout",
     "output_type": "stream",
     "text": [
      "2021-11-23 00:00:00 end\n"
     ]
    },
    {
     "name": "stderr",
     "output_type": "stream",
     "text": [
      "/home/oonishi/Git/JEPXbatch/src/Downloader/meteo/scripts/convert_GSM_to_pref_weather.py:202: FutureWarning: xarray.ufuncs is deprecated. Instead, use numpy ufuncs directly.\n",
      "  ds1yr[\"wind\"]=xr.ufuncs.sqrt(ds1yr[\"u2m\"]**2 + ds1yr[\"v2m\"]**2)\n",
      "/home/oonishi/miniconda3/envs/ml/lib/python3.8/site-packages/xarray/core/dataarray.py:3068: FutureWarning: xarray.ufuncs is deprecated. Instead, use numpy ufuncs directly.\n",
      "  da = self.__array_wrap__(f(self.variable.data, *args, **kwargs))\n"
     ]
    },
    {
     "name": "stdout",
     "output_type": "stream",
     "text": [
      "2021-11-24 00:00:00 end\n"
     ]
    },
    {
     "name": "stderr",
     "output_type": "stream",
     "text": [
      "/home/oonishi/Git/JEPXbatch/src/Downloader/meteo/scripts/convert_GSM_to_pref_weather.py:202: FutureWarning: xarray.ufuncs is deprecated. Instead, use numpy ufuncs directly.\n",
      "  ds1yr[\"wind\"]=xr.ufuncs.sqrt(ds1yr[\"u2m\"]**2 + ds1yr[\"v2m\"]**2)\n",
      "/home/oonishi/miniconda3/envs/ml/lib/python3.8/site-packages/xarray/core/dataarray.py:3068: FutureWarning: xarray.ufuncs is deprecated. Instead, use numpy ufuncs directly.\n",
      "  da = self.__array_wrap__(f(self.variable.data, *args, **kwargs))\n"
     ]
    },
    {
     "name": "stdout",
     "output_type": "stream",
     "text": [
      "2021-11-25 00:00:00 end\n"
     ]
    },
    {
     "name": "stderr",
     "output_type": "stream",
     "text": [
      "/home/oonishi/Git/JEPXbatch/src/Downloader/meteo/scripts/convert_GSM_to_pref_weather.py:202: FutureWarning: xarray.ufuncs is deprecated. Instead, use numpy ufuncs directly.\n",
      "  ds1yr[\"wind\"]=xr.ufuncs.sqrt(ds1yr[\"u2m\"]**2 + ds1yr[\"v2m\"]**2)\n",
      "/home/oonishi/miniconda3/envs/ml/lib/python3.8/site-packages/xarray/core/dataarray.py:3068: FutureWarning: xarray.ufuncs is deprecated. Instead, use numpy ufuncs directly.\n",
      "  da = self.__array_wrap__(f(self.variable.data, *args, **kwargs))\n"
     ]
    },
    {
     "name": "stdout",
     "output_type": "stream",
     "text": [
      "2021-11-26 00:00:00 end\n"
     ]
    },
    {
     "name": "stderr",
     "output_type": "stream",
     "text": [
      "/home/oonishi/Git/JEPXbatch/src/Downloader/meteo/scripts/convert_GSM_to_pref_weather.py:202: FutureWarning: xarray.ufuncs is deprecated. Instead, use numpy ufuncs directly.\n",
      "  ds1yr[\"wind\"]=xr.ufuncs.sqrt(ds1yr[\"u2m\"]**2 + ds1yr[\"v2m\"]**2)\n",
      "/home/oonishi/miniconda3/envs/ml/lib/python3.8/site-packages/xarray/core/dataarray.py:3068: FutureWarning: xarray.ufuncs is deprecated. Instead, use numpy ufuncs directly.\n",
      "  da = self.__array_wrap__(f(self.variable.data, *args, **kwargs))\n"
     ]
    },
    {
     "name": "stdout",
     "output_type": "stream",
     "text": [
      "2021-11-27 00:00:00 end\n"
     ]
    },
    {
     "name": "stderr",
     "output_type": "stream",
     "text": [
      "/home/oonishi/Git/JEPXbatch/src/Downloader/meteo/scripts/convert_GSM_to_pref_weather.py:202: FutureWarning: xarray.ufuncs is deprecated. Instead, use numpy ufuncs directly.\n",
      "  ds1yr[\"wind\"]=xr.ufuncs.sqrt(ds1yr[\"u2m\"]**2 + ds1yr[\"v2m\"]**2)\n",
      "/home/oonishi/miniconda3/envs/ml/lib/python3.8/site-packages/xarray/core/dataarray.py:3068: FutureWarning: xarray.ufuncs is deprecated. Instead, use numpy ufuncs directly.\n",
      "  da = self.__array_wrap__(f(self.variable.data, *args, **kwargs))\n"
     ]
    },
    {
     "name": "stdout",
     "output_type": "stream",
     "text": [
      "2021-11-28 00:00:00 end\n"
     ]
    },
    {
     "name": "stderr",
     "output_type": "stream",
     "text": [
      "/home/oonishi/Git/JEPXbatch/src/Downloader/meteo/scripts/convert_GSM_to_pref_weather.py:202: FutureWarning: xarray.ufuncs is deprecated. Instead, use numpy ufuncs directly.\n",
      "  ds1yr[\"wind\"]=xr.ufuncs.sqrt(ds1yr[\"u2m\"]**2 + ds1yr[\"v2m\"]**2)\n",
      "/home/oonishi/miniconda3/envs/ml/lib/python3.8/site-packages/xarray/core/dataarray.py:3068: FutureWarning: xarray.ufuncs is deprecated. Instead, use numpy ufuncs directly.\n",
      "  da = self.__array_wrap__(f(self.variable.data, *args, **kwargs))\n"
     ]
    },
    {
     "name": "stdout",
     "output_type": "stream",
     "text": [
      "2021-11-29 00:00:00 end\n"
     ]
    },
    {
     "name": "stderr",
     "output_type": "stream",
     "text": [
      "/home/oonishi/Git/JEPXbatch/src/Downloader/meteo/scripts/convert_GSM_to_pref_weather.py:202: FutureWarning: xarray.ufuncs is deprecated. Instead, use numpy ufuncs directly.\n",
      "  ds1yr[\"wind\"]=xr.ufuncs.sqrt(ds1yr[\"u2m\"]**2 + ds1yr[\"v2m\"]**2)\n",
      "/home/oonishi/miniconda3/envs/ml/lib/python3.8/site-packages/xarray/core/dataarray.py:3068: FutureWarning: xarray.ufuncs is deprecated. Instead, use numpy ufuncs directly.\n",
      "  da = self.__array_wrap__(f(self.variable.data, *args, **kwargs))\n"
     ]
    },
    {
     "name": "stdout",
     "output_type": "stream",
     "text": [
      "2021-11-30 00:00:00 end\n"
     ]
    },
    {
     "name": "stderr",
     "output_type": "stream",
     "text": [
      "/home/oonishi/Git/JEPXbatch/src/Downloader/meteo/scripts/convert_GSM_to_pref_weather.py:202: FutureWarning: xarray.ufuncs is deprecated. Instead, use numpy ufuncs directly.\n",
      "  ds1yr[\"wind\"]=xr.ufuncs.sqrt(ds1yr[\"u2m\"]**2 + ds1yr[\"v2m\"]**2)\n",
      "/home/oonishi/miniconda3/envs/ml/lib/python3.8/site-packages/xarray/core/dataarray.py:3068: FutureWarning: xarray.ufuncs is deprecated. Instead, use numpy ufuncs directly.\n",
      "  da = self.__array_wrap__(f(self.variable.data, *args, **kwargs))\n"
     ]
    },
    {
     "name": "stdout",
     "output_type": "stream",
     "text": [
      "2021-12-01 00:00:00 end\n"
     ]
    },
    {
     "name": "stderr",
     "output_type": "stream",
     "text": [
      "/home/oonishi/Git/JEPXbatch/src/Downloader/meteo/scripts/convert_GSM_to_pref_weather.py:202: FutureWarning: xarray.ufuncs is deprecated. Instead, use numpy ufuncs directly.\n",
      "  ds1yr[\"wind\"]=xr.ufuncs.sqrt(ds1yr[\"u2m\"]**2 + ds1yr[\"v2m\"]**2)\n",
      "/home/oonishi/miniconda3/envs/ml/lib/python3.8/site-packages/xarray/core/dataarray.py:3068: FutureWarning: xarray.ufuncs is deprecated. Instead, use numpy ufuncs directly.\n",
      "  da = self.__array_wrap__(f(self.variable.data, *args, **kwargs))\n"
     ]
    },
    {
     "name": "stdout",
     "output_type": "stream",
     "text": [
      "2021-12-02 00:00:00 end\n"
     ]
    },
    {
     "name": "stderr",
     "output_type": "stream",
     "text": [
      "/home/oonishi/Git/JEPXbatch/src/Downloader/meteo/scripts/convert_GSM_to_pref_weather.py:202: FutureWarning: xarray.ufuncs is deprecated. Instead, use numpy ufuncs directly.\n",
      "  ds1yr[\"wind\"]=xr.ufuncs.sqrt(ds1yr[\"u2m\"]**2 + ds1yr[\"v2m\"]**2)\n",
      "/home/oonishi/miniconda3/envs/ml/lib/python3.8/site-packages/xarray/core/dataarray.py:3068: FutureWarning: xarray.ufuncs is deprecated. Instead, use numpy ufuncs directly.\n",
      "  da = self.__array_wrap__(f(self.variable.data, *args, **kwargs))\n"
     ]
    },
    {
     "name": "stdout",
     "output_type": "stream",
     "text": [
      "2021-12-03 00:00:00 end\n"
     ]
    },
    {
     "name": "stderr",
     "output_type": "stream",
     "text": [
      "/home/oonishi/Git/JEPXbatch/src/Downloader/meteo/scripts/convert_GSM_to_pref_weather.py:202: FutureWarning: xarray.ufuncs is deprecated. Instead, use numpy ufuncs directly.\n",
      "  ds1yr[\"wind\"]=xr.ufuncs.sqrt(ds1yr[\"u2m\"]**2 + ds1yr[\"v2m\"]**2)\n",
      "/home/oonishi/miniconda3/envs/ml/lib/python3.8/site-packages/xarray/core/dataarray.py:3068: FutureWarning: xarray.ufuncs is deprecated. Instead, use numpy ufuncs directly.\n",
      "  da = self.__array_wrap__(f(self.variable.data, *args, **kwargs))\n"
     ]
    },
    {
     "name": "stdout",
     "output_type": "stream",
     "text": [
      "2021-12-04 00:00:00 end\n"
     ]
    },
    {
     "name": "stderr",
     "output_type": "stream",
     "text": [
      "/home/oonishi/Git/JEPXbatch/src/Downloader/meteo/scripts/convert_GSM_to_pref_weather.py:202: FutureWarning: xarray.ufuncs is deprecated. Instead, use numpy ufuncs directly.\n",
      "  ds1yr[\"wind\"]=xr.ufuncs.sqrt(ds1yr[\"u2m\"]**2 + ds1yr[\"v2m\"]**2)\n",
      "/home/oonishi/miniconda3/envs/ml/lib/python3.8/site-packages/xarray/core/dataarray.py:3068: FutureWarning: xarray.ufuncs is deprecated. Instead, use numpy ufuncs directly.\n",
      "  da = self.__array_wrap__(f(self.variable.data, *args, **kwargs))\n"
     ]
    },
    {
     "name": "stdout",
     "output_type": "stream",
     "text": [
      "2021-12-05 00:00:00 end\n"
     ]
    },
    {
     "name": "stderr",
     "output_type": "stream",
     "text": [
      "/home/oonishi/Git/JEPXbatch/src/Downloader/meteo/scripts/convert_GSM_to_pref_weather.py:202: FutureWarning: xarray.ufuncs is deprecated. Instead, use numpy ufuncs directly.\n",
      "  ds1yr[\"wind\"]=xr.ufuncs.sqrt(ds1yr[\"u2m\"]**2 + ds1yr[\"v2m\"]**2)\n",
      "/home/oonishi/miniconda3/envs/ml/lib/python3.8/site-packages/xarray/core/dataarray.py:3068: FutureWarning: xarray.ufuncs is deprecated. Instead, use numpy ufuncs directly.\n",
      "  da = self.__array_wrap__(f(self.variable.data, *args, **kwargs))\n"
     ]
    },
    {
     "name": "stdout",
     "output_type": "stream",
     "text": [
      "2021-12-06 00:00:00 end\n"
     ]
    },
    {
     "name": "stderr",
     "output_type": "stream",
     "text": [
      "/home/oonishi/Git/JEPXbatch/src/Downloader/meteo/scripts/convert_GSM_to_pref_weather.py:202: FutureWarning: xarray.ufuncs is deprecated. Instead, use numpy ufuncs directly.\n",
      "  ds1yr[\"wind\"]=xr.ufuncs.sqrt(ds1yr[\"u2m\"]**2 + ds1yr[\"v2m\"]**2)\n",
      "/home/oonishi/miniconda3/envs/ml/lib/python3.8/site-packages/xarray/core/dataarray.py:3068: FutureWarning: xarray.ufuncs is deprecated. Instead, use numpy ufuncs directly.\n",
      "  da = self.__array_wrap__(f(self.variable.data, *args, **kwargs))\n"
     ]
    },
    {
     "name": "stdout",
     "output_type": "stream",
     "text": [
      "2021-12-07 00:00:00 end\n"
     ]
    },
    {
     "name": "stderr",
     "output_type": "stream",
     "text": [
      "/home/oonishi/Git/JEPXbatch/src/Downloader/meteo/scripts/convert_GSM_to_pref_weather.py:202: FutureWarning: xarray.ufuncs is deprecated. Instead, use numpy ufuncs directly.\n",
      "  ds1yr[\"wind\"]=xr.ufuncs.sqrt(ds1yr[\"u2m\"]**2 + ds1yr[\"v2m\"]**2)\n",
      "/home/oonishi/miniconda3/envs/ml/lib/python3.8/site-packages/xarray/core/dataarray.py:3068: FutureWarning: xarray.ufuncs is deprecated. Instead, use numpy ufuncs directly.\n",
      "  da = self.__array_wrap__(f(self.variable.data, *args, **kwargs))\n"
     ]
    },
    {
     "name": "stdout",
     "output_type": "stream",
     "text": [
      "2021-12-08 00:00:00 end\n"
     ]
    },
    {
     "name": "stderr",
     "output_type": "stream",
     "text": [
      "/home/oonishi/Git/JEPXbatch/src/Downloader/meteo/scripts/convert_GSM_to_pref_weather.py:202: FutureWarning: xarray.ufuncs is deprecated. Instead, use numpy ufuncs directly.\n",
      "  ds1yr[\"wind\"]=xr.ufuncs.sqrt(ds1yr[\"u2m\"]**2 + ds1yr[\"v2m\"]**2)\n",
      "/home/oonishi/miniconda3/envs/ml/lib/python3.8/site-packages/xarray/core/dataarray.py:3068: FutureWarning: xarray.ufuncs is deprecated. Instead, use numpy ufuncs directly.\n",
      "  da = self.__array_wrap__(f(self.variable.data, *args, **kwargs))\n"
     ]
    },
    {
     "name": "stdout",
     "output_type": "stream",
     "text": [
      "2021-12-09 00:00:00 end\n"
     ]
    },
    {
     "name": "stderr",
     "output_type": "stream",
     "text": [
      "/home/oonishi/Git/JEPXbatch/src/Downloader/meteo/scripts/convert_GSM_to_pref_weather.py:202: FutureWarning: xarray.ufuncs is deprecated. Instead, use numpy ufuncs directly.\n",
      "  ds1yr[\"wind\"]=xr.ufuncs.sqrt(ds1yr[\"u2m\"]**2 + ds1yr[\"v2m\"]**2)\n",
      "/home/oonishi/miniconda3/envs/ml/lib/python3.8/site-packages/xarray/core/dataarray.py:3068: FutureWarning: xarray.ufuncs is deprecated. Instead, use numpy ufuncs directly.\n",
      "  da = self.__array_wrap__(f(self.variable.data, *args, **kwargs))\n"
     ]
    },
    {
     "name": "stdout",
     "output_type": "stream",
     "text": [
      "2021-12-10 00:00:00 end\n"
     ]
    },
    {
     "name": "stderr",
     "output_type": "stream",
     "text": [
      "/home/oonishi/Git/JEPXbatch/src/Downloader/meteo/scripts/convert_GSM_to_pref_weather.py:202: FutureWarning: xarray.ufuncs is deprecated. Instead, use numpy ufuncs directly.\n",
      "  ds1yr[\"wind\"]=xr.ufuncs.sqrt(ds1yr[\"u2m\"]**2 + ds1yr[\"v2m\"]**2)\n",
      "/home/oonishi/miniconda3/envs/ml/lib/python3.8/site-packages/xarray/core/dataarray.py:3068: FutureWarning: xarray.ufuncs is deprecated. Instead, use numpy ufuncs directly.\n",
      "  da = self.__array_wrap__(f(self.variable.data, *args, **kwargs))\n"
     ]
    },
    {
     "name": "stdout",
     "output_type": "stream",
     "text": [
      "2021-12-11 00:00:00 end\n"
     ]
    },
    {
     "name": "stderr",
     "output_type": "stream",
     "text": [
      "/home/oonishi/Git/JEPXbatch/src/Downloader/meteo/scripts/convert_GSM_to_pref_weather.py:202: FutureWarning: xarray.ufuncs is deprecated. Instead, use numpy ufuncs directly.\n",
      "  ds1yr[\"wind\"]=xr.ufuncs.sqrt(ds1yr[\"u2m\"]**2 + ds1yr[\"v2m\"]**2)\n",
      "/home/oonishi/miniconda3/envs/ml/lib/python3.8/site-packages/xarray/core/dataarray.py:3068: FutureWarning: xarray.ufuncs is deprecated. Instead, use numpy ufuncs directly.\n",
      "  da = self.__array_wrap__(f(self.variable.data, *args, **kwargs))\n"
     ]
    },
    {
     "name": "stdout",
     "output_type": "stream",
     "text": [
      "2021-12-12 00:00:00 end\n"
     ]
    },
    {
     "name": "stderr",
     "output_type": "stream",
     "text": [
      "/home/oonishi/Git/JEPXbatch/src/Downloader/meteo/scripts/convert_GSM_to_pref_weather.py:202: FutureWarning: xarray.ufuncs is deprecated. Instead, use numpy ufuncs directly.\n",
      "  ds1yr[\"wind\"]=xr.ufuncs.sqrt(ds1yr[\"u2m\"]**2 + ds1yr[\"v2m\"]**2)\n",
      "/home/oonishi/miniconda3/envs/ml/lib/python3.8/site-packages/xarray/core/dataarray.py:3068: FutureWarning: xarray.ufuncs is deprecated. Instead, use numpy ufuncs directly.\n",
      "  da = self.__array_wrap__(f(self.variable.data, *args, **kwargs))\n"
     ]
    },
    {
     "name": "stdout",
     "output_type": "stream",
     "text": [
      "2021-12-13 00:00:00 end\n"
     ]
    },
    {
     "name": "stderr",
     "output_type": "stream",
     "text": [
      "/home/oonishi/Git/JEPXbatch/src/Downloader/meteo/scripts/convert_GSM_to_pref_weather.py:202: FutureWarning: xarray.ufuncs is deprecated. Instead, use numpy ufuncs directly.\n",
      "  ds1yr[\"wind\"]=xr.ufuncs.sqrt(ds1yr[\"u2m\"]**2 + ds1yr[\"v2m\"]**2)\n",
      "/home/oonishi/miniconda3/envs/ml/lib/python3.8/site-packages/xarray/core/dataarray.py:3068: FutureWarning: xarray.ufuncs is deprecated. Instead, use numpy ufuncs directly.\n",
      "  da = self.__array_wrap__(f(self.variable.data, *args, **kwargs))\n"
     ]
    },
    {
     "name": "stdout",
     "output_type": "stream",
     "text": [
      "2021-12-14 00:00:00 end\n"
     ]
    },
    {
     "name": "stderr",
     "output_type": "stream",
     "text": [
      "/home/oonishi/Git/JEPXbatch/src/Downloader/meteo/scripts/convert_GSM_to_pref_weather.py:202: FutureWarning: xarray.ufuncs is deprecated. Instead, use numpy ufuncs directly.\n",
      "  ds1yr[\"wind\"]=xr.ufuncs.sqrt(ds1yr[\"u2m\"]**2 + ds1yr[\"v2m\"]**2)\n",
      "/home/oonishi/miniconda3/envs/ml/lib/python3.8/site-packages/xarray/core/dataarray.py:3068: FutureWarning: xarray.ufuncs is deprecated. Instead, use numpy ufuncs directly.\n",
      "  da = self.__array_wrap__(f(self.variable.data, *args, **kwargs))\n"
     ]
    },
    {
     "name": "stdout",
     "output_type": "stream",
     "text": [
      "2021-12-15 00:00:00 end\n"
     ]
    },
    {
     "name": "stderr",
     "output_type": "stream",
     "text": [
      "/home/oonishi/Git/JEPXbatch/src/Downloader/meteo/scripts/convert_GSM_to_pref_weather.py:202: FutureWarning: xarray.ufuncs is deprecated. Instead, use numpy ufuncs directly.\n",
      "  ds1yr[\"wind\"]=xr.ufuncs.sqrt(ds1yr[\"u2m\"]**2 + ds1yr[\"v2m\"]**2)\n",
      "/home/oonishi/miniconda3/envs/ml/lib/python3.8/site-packages/xarray/core/dataarray.py:3068: FutureWarning: xarray.ufuncs is deprecated. Instead, use numpy ufuncs directly.\n",
      "  da = self.__array_wrap__(f(self.variable.data, *args, **kwargs))\n"
     ]
    },
    {
     "name": "stdout",
     "output_type": "stream",
     "text": [
      "2021-12-16 00:00:00 end\n"
     ]
    },
    {
     "name": "stderr",
     "output_type": "stream",
     "text": [
      "/home/oonishi/Git/JEPXbatch/src/Downloader/meteo/scripts/convert_GSM_to_pref_weather.py:202: FutureWarning: xarray.ufuncs is deprecated. Instead, use numpy ufuncs directly.\n",
      "  ds1yr[\"wind\"]=xr.ufuncs.sqrt(ds1yr[\"u2m\"]**2 + ds1yr[\"v2m\"]**2)\n",
      "/home/oonishi/miniconda3/envs/ml/lib/python3.8/site-packages/xarray/core/dataarray.py:3068: FutureWarning: xarray.ufuncs is deprecated. Instead, use numpy ufuncs directly.\n",
      "  da = self.__array_wrap__(f(self.variable.data, *args, **kwargs))\n"
     ]
    },
    {
     "name": "stdout",
     "output_type": "stream",
     "text": [
      "2021-12-17 00:00:00 end\n"
     ]
    },
    {
     "name": "stderr",
     "output_type": "stream",
     "text": [
      "/home/oonishi/Git/JEPXbatch/src/Downloader/meteo/scripts/convert_GSM_to_pref_weather.py:202: FutureWarning: xarray.ufuncs is deprecated. Instead, use numpy ufuncs directly.\n",
      "  ds1yr[\"wind\"]=xr.ufuncs.sqrt(ds1yr[\"u2m\"]**2 + ds1yr[\"v2m\"]**2)\n",
      "/home/oonishi/miniconda3/envs/ml/lib/python3.8/site-packages/xarray/core/dataarray.py:3068: FutureWarning: xarray.ufuncs is deprecated. Instead, use numpy ufuncs directly.\n",
      "  da = self.__array_wrap__(f(self.variable.data, *args, **kwargs))\n"
     ]
    },
    {
     "name": "stdout",
     "output_type": "stream",
     "text": [
      "2021-12-18 00:00:00 end\n"
     ]
    },
    {
     "name": "stderr",
     "output_type": "stream",
     "text": [
      "/home/oonishi/Git/JEPXbatch/src/Downloader/meteo/scripts/convert_GSM_to_pref_weather.py:202: FutureWarning: xarray.ufuncs is deprecated. Instead, use numpy ufuncs directly.\n",
      "  ds1yr[\"wind\"]=xr.ufuncs.sqrt(ds1yr[\"u2m\"]**2 + ds1yr[\"v2m\"]**2)\n",
      "/home/oonishi/miniconda3/envs/ml/lib/python3.8/site-packages/xarray/core/dataarray.py:3068: FutureWarning: xarray.ufuncs is deprecated. Instead, use numpy ufuncs directly.\n",
      "  da = self.__array_wrap__(f(self.variable.data, *args, **kwargs))\n"
     ]
    },
    {
     "name": "stdout",
     "output_type": "stream",
     "text": [
      "2021-12-19 00:00:00 end\n"
     ]
    },
    {
     "name": "stderr",
     "output_type": "stream",
     "text": [
      "/home/oonishi/Git/JEPXbatch/src/Downloader/meteo/scripts/convert_GSM_to_pref_weather.py:202: FutureWarning: xarray.ufuncs is deprecated. Instead, use numpy ufuncs directly.\n",
      "  ds1yr[\"wind\"]=xr.ufuncs.sqrt(ds1yr[\"u2m\"]**2 + ds1yr[\"v2m\"]**2)\n",
      "/home/oonishi/miniconda3/envs/ml/lib/python3.8/site-packages/xarray/core/dataarray.py:3068: FutureWarning: xarray.ufuncs is deprecated. Instead, use numpy ufuncs directly.\n",
      "  da = self.__array_wrap__(f(self.variable.data, *args, **kwargs))\n"
     ]
    },
    {
     "name": "stdout",
     "output_type": "stream",
     "text": [
      "2021-12-20 00:00:00 end\n"
     ]
    },
    {
     "name": "stderr",
     "output_type": "stream",
     "text": [
      "/home/oonishi/Git/JEPXbatch/src/Downloader/meteo/scripts/convert_GSM_to_pref_weather.py:202: FutureWarning: xarray.ufuncs is deprecated. Instead, use numpy ufuncs directly.\n",
      "  ds1yr[\"wind\"]=xr.ufuncs.sqrt(ds1yr[\"u2m\"]**2 + ds1yr[\"v2m\"]**2)\n",
      "/home/oonishi/miniconda3/envs/ml/lib/python3.8/site-packages/xarray/core/dataarray.py:3068: FutureWarning: xarray.ufuncs is deprecated. Instead, use numpy ufuncs directly.\n",
      "  da = self.__array_wrap__(f(self.variable.data, *args, **kwargs))\n"
     ]
    },
    {
     "name": "stdout",
     "output_type": "stream",
     "text": [
      "2021-12-21 00:00:00 end\n"
     ]
    },
    {
     "name": "stderr",
     "output_type": "stream",
     "text": [
      "/home/oonishi/Git/JEPXbatch/src/Downloader/meteo/scripts/convert_GSM_to_pref_weather.py:202: FutureWarning: xarray.ufuncs is deprecated. Instead, use numpy ufuncs directly.\n",
      "  ds1yr[\"wind\"]=xr.ufuncs.sqrt(ds1yr[\"u2m\"]**2 + ds1yr[\"v2m\"]**2)\n",
      "/home/oonishi/miniconda3/envs/ml/lib/python3.8/site-packages/xarray/core/dataarray.py:3068: FutureWarning: xarray.ufuncs is deprecated. Instead, use numpy ufuncs directly.\n",
      "  da = self.__array_wrap__(f(self.variable.data, *args, **kwargs))\n"
     ]
    },
    {
     "name": "stdout",
     "output_type": "stream",
     "text": [
      "2021-12-22 00:00:00 end\n"
     ]
    },
    {
     "name": "stderr",
     "output_type": "stream",
     "text": [
      "/home/oonishi/Git/JEPXbatch/src/Downloader/meteo/scripts/convert_GSM_to_pref_weather.py:202: FutureWarning: xarray.ufuncs is deprecated. Instead, use numpy ufuncs directly.\n",
      "  ds1yr[\"wind\"]=xr.ufuncs.sqrt(ds1yr[\"u2m\"]**2 + ds1yr[\"v2m\"]**2)\n",
      "/home/oonishi/miniconda3/envs/ml/lib/python3.8/site-packages/xarray/core/dataarray.py:3068: FutureWarning: xarray.ufuncs is deprecated. Instead, use numpy ufuncs directly.\n",
      "  da = self.__array_wrap__(f(self.variable.data, *args, **kwargs))\n"
     ]
    },
    {
     "name": "stdout",
     "output_type": "stream",
     "text": [
      "2021-12-23 00:00:00 end\n"
     ]
    },
    {
     "name": "stderr",
     "output_type": "stream",
     "text": [
      "/home/oonishi/Git/JEPXbatch/src/Downloader/meteo/scripts/convert_GSM_to_pref_weather.py:202: FutureWarning: xarray.ufuncs is deprecated. Instead, use numpy ufuncs directly.\n",
      "  ds1yr[\"wind\"]=xr.ufuncs.sqrt(ds1yr[\"u2m\"]**2 + ds1yr[\"v2m\"]**2)\n",
      "/home/oonishi/miniconda3/envs/ml/lib/python3.8/site-packages/xarray/core/dataarray.py:3068: FutureWarning: xarray.ufuncs is deprecated. Instead, use numpy ufuncs directly.\n",
      "  da = self.__array_wrap__(f(self.variable.data, *args, **kwargs))\n"
     ]
    },
    {
     "name": "stdout",
     "output_type": "stream",
     "text": [
      "2021-12-24 00:00:00 end\n"
     ]
    },
    {
     "name": "stderr",
     "output_type": "stream",
     "text": [
      "/home/oonishi/Git/JEPXbatch/src/Downloader/meteo/scripts/convert_GSM_to_pref_weather.py:202: FutureWarning: xarray.ufuncs is deprecated. Instead, use numpy ufuncs directly.\n",
      "  ds1yr[\"wind\"]=xr.ufuncs.sqrt(ds1yr[\"u2m\"]**2 + ds1yr[\"v2m\"]**2)\n",
      "/home/oonishi/miniconda3/envs/ml/lib/python3.8/site-packages/xarray/core/dataarray.py:3068: FutureWarning: xarray.ufuncs is deprecated. Instead, use numpy ufuncs directly.\n",
      "  da = self.__array_wrap__(f(self.variable.data, *args, **kwargs))\n"
     ]
    },
    {
     "name": "stdout",
     "output_type": "stream",
     "text": [
      "2021-12-25 00:00:00 end\n"
     ]
    },
    {
     "name": "stderr",
     "output_type": "stream",
     "text": [
      "/home/oonishi/Git/JEPXbatch/src/Downloader/meteo/scripts/convert_GSM_to_pref_weather.py:202: FutureWarning: xarray.ufuncs is deprecated. Instead, use numpy ufuncs directly.\n",
      "  ds1yr[\"wind\"]=xr.ufuncs.sqrt(ds1yr[\"u2m\"]**2 + ds1yr[\"v2m\"]**2)\n",
      "/home/oonishi/miniconda3/envs/ml/lib/python3.8/site-packages/xarray/core/dataarray.py:3068: FutureWarning: xarray.ufuncs is deprecated. Instead, use numpy ufuncs directly.\n",
      "  da = self.__array_wrap__(f(self.variable.data, *args, **kwargs))\n"
     ]
    },
    {
     "name": "stdout",
     "output_type": "stream",
     "text": [
      "2021-12-26 00:00:00 end\n"
     ]
    },
    {
     "name": "stderr",
     "output_type": "stream",
     "text": [
      "/home/oonishi/Git/JEPXbatch/src/Downloader/meteo/scripts/convert_GSM_to_pref_weather.py:202: FutureWarning: xarray.ufuncs is deprecated. Instead, use numpy ufuncs directly.\n",
      "  ds1yr[\"wind\"]=xr.ufuncs.sqrt(ds1yr[\"u2m\"]**2 + ds1yr[\"v2m\"]**2)\n",
      "/home/oonishi/miniconda3/envs/ml/lib/python3.8/site-packages/xarray/core/dataarray.py:3068: FutureWarning: xarray.ufuncs is deprecated. Instead, use numpy ufuncs directly.\n",
      "  da = self.__array_wrap__(f(self.variable.data, *args, **kwargs))\n"
     ]
    },
    {
     "name": "stdout",
     "output_type": "stream",
     "text": [
      "2021-12-27 00:00:00 end\n"
     ]
    },
    {
     "name": "stderr",
     "output_type": "stream",
     "text": [
      "/home/oonishi/Git/JEPXbatch/src/Downloader/meteo/scripts/convert_GSM_to_pref_weather.py:202: FutureWarning: xarray.ufuncs is deprecated. Instead, use numpy ufuncs directly.\n",
      "  ds1yr[\"wind\"]=xr.ufuncs.sqrt(ds1yr[\"u2m\"]**2 + ds1yr[\"v2m\"]**2)\n",
      "/home/oonishi/miniconda3/envs/ml/lib/python3.8/site-packages/xarray/core/dataarray.py:3068: FutureWarning: xarray.ufuncs is deprecated. Instead, use numpy ufuncs directly.\n",
      "  da = self.__array_wrap__(f(self.variable.data, *args, **kwargs))\n"
     ]
    },
    {
     "name": "stdout",
     "output_type": "stream",
     "text": [
      "2021-12-28 00:00:00 end\n"
     ]
    },
    {
     "name": "stderr",
     "output_type": "stream",
     "text": [
      "/home/oonishi/Git/JEPXbatch/src/Downloader/meteo/scripts/convert_GSM_to_pref_weather.py:202: FutureWarning: xarray.ufuncs is deprecated. Instead, use numpy ufuncs directly.\n",
      "  ds1yr[\"wind\"]=xr.ufuncs.sqrt(ds1yr[\"u2m\"]**2 + ds1yr[\"v2m\"]**2)\n",
      "/home/oonishi/miniconda3/envs/ml/lib/python3.8/site-packages/xarray/core/dataarray.py:3068: FutureWarning: xarray.ufuncs is deprecated. Instead, use numpy ufuncs directly.\n",
      "  da = self.__array_wrap__(f(self.variable.data, *args, **kwargs))\n"
     ]
    },
    {
     "name": "stdout",
     "output_type": "stream",
     "text": [
      "2021-12-29 00:00:00 end\n"
     ]
    },
    {
     "name": "stderr",
     "output_type": "stream",
     "text": [
      "/home/oonishi/Git/JEPXbatch/src/Downloader/meteo/scripts/convert_GSM_to_pref_weather.py:202: FutureWarning: xarray.ufuncs is deprecated. Instead, use numpy ufuncs directly.\n",
      "  ds1yr[\"wind\"]=xr.ufuncs.sqrt(ds1yr[\"u2m\"]**2 + ds1yr[\"v2m\"]**2)\n",
      "/home/oonishi/miniconda3/envs/ml/lib/python3.8/site-packages/xarray/core/dataarray.py:3068: FutureWarning: xarray.ufuncs is deprecated. Instead, use numpy ufuncs directly.\n",
      "  da = self.__array_wrap__(f(self.variable.data, *args, **kwargs))\n"
     ]
    },
    {
     "name": "stdout",
     "output_type": "stream",
     "text": [
      "2021-12-30 00:00:00 end\n"
     ]
    },
    {
     "name": "stderr",
     "output_type": "stream",
     "text": [
      "/home/oonishi/Git/JEPXbatch/src/Downloader/meteo/scripts/convert_GSM_to_pref_weather.py:202: FutureWarning: xarray.ufuncs is deprecated. Instead, use numpy ufuncs directly.\n",
      "  ds1yr[\"wind\"]=xr.ufuncs.sqrt(ds1yr[\"u2m\"]**2 + ds1yr[\"v2m\"]**2)\n",
      "/home/oonishi/miniconda3/envs/ml/lib/python3.8/site-packages/xarray/core/dataarray.py:3068: FutureWarning: xarray.ufuncs is deprecated. Instead, use numpy ufuncs directly.\n",
      "  da = self.__array_wrap__(f(self.variable.data, *args, **kwargs))\n"
     ]
    },
    {
     "name": "stdout",
     "output_type": "stream",
     "text": [
      "2021-12-31 00:00:00 end\n"
     ]
    },
    {
     "name": "stderr",
     "output_type": "stream",
     "text": [
      "/home/oonishi/Git/JEPXbatch/src/Downloader/meteo/scripts/convert_GSM_to_pref_weather.py:202: FutureWarning: xarray.ufuncs is deprecated. Instead, use numpy ufuncs directly.\n",
      "  ds1yr[\"wind\"]=xr.ufuncs.sqrt(ds1yr[\"u2m\"]**2 + ds1yr[\"v2m\"]**2)\n",
      "/home/oonishi/miniconda3/envs/ml/lib/python3.8/site-packages/xarray/core/dataarray.py:3068: FutureWarning: xarray.ufuncs is deprecated. Instead, use numpy ufuncs directly.\n",
      "  da = self.__array_wrap__(f(self.variable.data, *args, **kwargs))\n"
     ]
    },
    {
     "name": "stdout",
     "output_type": "stream",
     "text": [
      "2022-01-01 00:00:00 end\n"
     ]
    },
    {
     "name": "stderr",
     "output_type": "stream",
     "text": [
      "/home/oonishi/Git/JEPXbatch/src/Downloader/meteo/scripts/convert_GSM_to_pref_weather.py:202: FutureWarning: xarray.ufuncs is deprecated. Instead, use numpy ufuncs directly.\n",
      "  ds1yr[\"wind\"]=xr.ufuncs.sqrt(ds1yr[\"u2m\"]**2 + ds1yr[\"v2m\"]**2)\n",
      "/home/oonishi/miniconda3/envs/ml/lib/python3.8/site-packages/xarray/core/dataarray.py:3068: FutureWarning: xarray.ufuncs is deprecated. Instead, use numpy ufuncs directly.\n",
      "  da = self.__array_wrap__(f(self.variable.data, *args, **kwargs))\n"
     ]
    },
    {
     "name": "stdout",
     "output_type": "stream",
     "text": [
      "2022-01-02 00:00:00 end\n"
     ]
    },
    {
     "name": "stderr",
     "output_type": "stream",
     "text": [
      "/home/oonishi/Git/JEPXbatch/src/Downloader/meteo/scripts/convert_GSM_to_pref_weather.py:202: FutureWarning: xarray.ufuncs is deprecated. Instead, use numpy ufuncs directly.\n",
      "  ds1yr[\"wind\"]=xr.ufuncs.sqrt(ds1yr[\"u2m\"]**2 + ds1yr[\"v2m\"]**2)\n",
      "/home/oonishi/miniconda3/envs/ml/lib/python3.8/site-packages/xarray/core/dataarray.py:3068: FutureWarning: xarray.ufuncs is deprecated. Instead, use numpy ufuncs directly.\n",
      "  da = self.__array_wrap__(f(self.variable.data, *args, **kwargs))\n"
     ]
    },
    {
     "name": "stdout",
     "output_type": "stream",
     "text": [
      "2022-01-03 00:00:00 end\n"
     ]
    },
    {
     "name": "stderr",
     "output_type": "stream",
     "text": [
      "/home/oonishi/Git/JEPXbatch/src/Downloader/meteo/scripts/convert_GSM_to_pref_weather.py:202: FutureWarning: xarray.ufuncs is deprecated. Instead, use numpy ufuncs directly.\n",
      "  ds1yr[\"wind\"]=xr.ufuncs.sqrt(ds1yr[\"u2m\"]**2 + ds1yr[\"v2m\"]**2)\n",
      "/home/oonishi/miniconda3/envs/ml/lib/python3.8/site-packages/xarray/core/dataarray.py:3068: FutureWarning: xarray.ufuncs is deprecated. Instead, use numpy ufuncs directly.\n",
      "  da = self.__array_wrap__(f(self.variable.data, *args, **kwargs))\n"
     ]
    },
    {
     "name": "stdout",
     "output_type": "stream",
     "text": [
      "2022-01-04 00:00:00 end\n"
     ]
    },
    {
     "name": "stderr",
     "output_type": "stream",
     "text": [
      "/home/oonishi/Git/JEPXbatch/src/Downloader/meteo/scripts/convert_GSM_to_pref_weather.py:202: FutureWarning: xarray.ufuncs is deprecated. Instead, use numpy ufuncs directly.\n",
      "  ds1yr[\"wind\"]=xr.ufuncs.sqrt(ds1yr[\"u2m\"]**2 + ds1yr[\"v2m\"]**2)\n",
      "/home/oonishi/miniconda3/envs/ml/lib/python3.8/site-packages/xarray/core/dataarray.py:3068: FutureWarning: xarray.ufuncs is deprecated. Instead, use numpy ufuncs directly.\n",
      "  da = self.__array_wrap__(f(self.variable.data, *args, **kwargs))\n"
     ]
    },
    {
     "name": "stdout",
     "output_type": "stream",
     "text": [
      "2022-01-05 00:00:00 end\n"
     ]
    },
    {
     "name": "stderr",
     "output_type": "stream",
     "text": [
      "/home/oonishi/Git/JEPXbatch/src/Downloader/meteo/scripts/convert_GSM_to_pref_weather.py:202: FutureWarning: xarray.ufuncs is deprecated. Instead, use numpy ufuncs directly.\n",
      "  ds1yr[\"wind\"]=xr.ufuncs.sqrt(ds1yr[\"u2m\"]**2 + ds1yr[\"v2m\"]**2)\n",
      "/home/oonishi/miniconda3/envs/ml/lib/python3.8/site-packages/xarray/core/dataarray.py:3068: FutureWarning: xarray.ufuncs is deprecated. Instead, use numpy ufuncs directly.\n",
      "  da = self.__array_wrap__(f(self.variable.data, *args, **kwargs))\n"
     ]
    },
    {
     "name": "stdout",
     "output_type": "stream",
     "text": [
      "2022-01-06 00:00:00 end\n"
     ]
    },
    {
     "name": "stderr",
     "output_type": "stream",
     "text": [
      "/home/oonishi/Git/JEPXbatch/src/Downloader/meteo/scripts/convert_GSM_to_pref_weather.py:202: FutureWarning: xarray.ufuncs is deprecated. Instead, use numpy ufuncs directly.\n",
      "  ds1yr[\"wind\"]=xr.ufuncs.sqrt(ds1yr[\"u2m\"]**2 + ds1yr[\"v2m\"]**2)\n",
      "/home/oonishi/miniconda3/envs/ml/lib/python3.8/site-packages/xarray/core/dataarray.py:3068: FutureWarning: xarray.ufuncs is deprecated. Instead, use numpy ufuncs directly.\n",
      "  da = self.__array_wrap__(f(self.variable.data, *args, **kwargs))\n"
     ]
    },
    {
     "name": "stdout",
     "output_type": "stream",
     "text": [
      "2022-01-07 00:00:00 end\n"
     ]
    },
    {
     "name": "stderr",
     "output_type": "stream",
     "text": [
      "/home/oonishi/Git/JEPXbatch/src/Downloader/meteo/scripts/convert_GSM_to_pref_weather.py:202: FutureWarning: xarray.ufuncs is deprecated. Instead, use numpy ufuncs directly.\n",
      "  ds1yr[\"wind\"]=xr.ufuncs.sqrt(ds1yr[\"u2m\"]**2 + ds1yr[\"v2m\"]**2)\n",
      "/home/oonishi/miniconda3/envs/ml/lib/python3.8/site-packages/xarray/core/dataarray.py:3068: FutureWarning: xarray.ufuncs is deprecated. Instead, use numpy ufuncs directly.\n",
      "  da = self.__array_wrap__(f(self.variable.data, *args, **kwargs))\n"
     ]
    },
    {
     "name": "stdout",
     "output_type": "stream",
     "text": [
      "2022-01-08 00:00:00 end\n"
     ]
    },
    {
     "name": "stderr",
     "output_type": "stream",
     "text": [
      "/home/oonishi/Git/JEPXbatch/src/Downloader/meteo/scripts/convert_GSM_to_pref_weather.py:202: FutureWarning: xarray.ufuncs is deprecated. Instead, use numpy ufuncs directly.\n",
      "  ds1yr[\"wind\"]=xr.ufuncs.sqrt(ds1yr[\"u2m\"]**2 + ds1yr[\"v2m\"]**2)\n",
      "/home/oonishi/miniconda3/envs/ml/lib/python3.8/site-packages/xarray/core/dataarray.py:3068: FutureWarning: xarray.ufuncs is deprecated. Instead, use numpy ufuncs directly.\n",
      "  da = self.__array_wrap__(f(self.variable.data, *args, **kwargs))\n"
     ]
    },
    {
     "name": "stdout",
     "output_type": "stream",
     "text": [
      "2022-01-09 00:00:00 end\n"
     ]
    },
    {
     "name": "stderr",
     "output_type": "stream",
     "text": [
      "/home/oonishi/Git/JEPXbatch/src/Downloader/meteo/scripts/convert_GSM_to_pref_weather.py:202: FutureWarning: xarray.ufuncs is deprecated. Instead, use numpy ufuncs directly.\n",
      "  ds1yr[\"wind\"]=xr.ufuncs.sqrt(ds1yr[\"u2m\"]**2 + ds1yr[\"v2m\"]**2)\n",
      "/home/oonishi/miniconda3/envs/ml/lib/python3.8/site-packages/xarray/core/dataarray.py:3068: FutureWarning: xarray.ufuncs is deprecated. Instead, use numpy ufuncs directly.\n",
      "  da = self.__array_wrap__(f(self.variable.data, *args, **kwargs))\n"
     ]
    },
    {
     "name": "stdout",
     "output_type": "stream",
     "text": [
      "2022-01-10 00:00:00 end\n"
     ]
    },
    {
     "name": "stderr",
     "output_type": "stream",
     "text": [
      "/home/oonishi/Git/JEPXbatch/src/Downloader/meteo/scripts/convert_GSM_to_pref_weather.py:202: FutureWarning: xarray.ufuncs is deprecated. Instead, use numpy ufuncs directly.\n",
      "  ds1yr[\"wind\"]=xr.ufuncs.sqrt(ds1yr[\"u2m\"]**2 + ds1yr[\"v2m\"]**2)\n",
      "/home/oonishi/miniconda3/envs/ml/lib/python3.8/site-packages/xarray/core/dataarray.py:3068: FutureWarning: xarray.ufuncs is deprecated. Instead, use numpy ufuncs directly.\n",
      "  da = self.__array_wrap__(f(self.variable.data, *args, **kwargs))\n"
     ]
    },
    {
     "name": "stdout",
     "output_type": "stream",
     "text": [
      "2022-01-11 00:00:00 end\n"
     ]
    },
    {
     "name": "stderr",
     "output_type": "stream",
     "text": [
      "/home/oonishi/Git/JEPXbatch/src/Downloader/meteo/scripts/convert_GSM_to_pref_weather.py:202: FutureWarning: xarray.ufuncs is deprecated. Instead, use numpy ufuncs directly.\n",
      "  ds1yr[\"wind\"]=xr.ufuncs.sqrt(ds1yr[\"u2m\"]**2 + ds1yr[\"v2m\"]**2)\n",
      "/home/oonishi/miniconda3/envs/ml/lib/python3.8/site-packages/xarray/core/dataarray.py:3068: FutureWarning: xarray.ufuncs is deprecated. Instead, use numpy ufuncs directly.\n",
      "  da = self.__array_wrap__(f(self.variable.data, *args, **kwargs))\n"
     ]
    },
    {
     "name": "stdout",
     "output_type": "stream",
     "text": [
      "2022-01-12 00:00:00 end\n"
     ]
    },
    {
     "name": "stderr",
     "output_type": "stream",
     "text": [
      "/home/oonishi/Git/JEPXbatch/src/Downloader/meteo/scripts/convert_GSM_to_pref_weather.py:202: FutureWarning: xarray.ufuncs is deprecated. Instead, use numpy ufuncs directly.\n",
      "  ds1yr[\"wind\"]=xr.ufuncs.sqrt(ds1yr[\"u2m\"]**2 + ds1yr[\"v2m\"]**2)\n",
      "/home/oonishi/miniconda3/envs/ml/lib/python3.8/site-packages/xarray/core/dataarray.py:3068: FutureWarning: xarray.ufuncs is deprecated. Instead, use numpy ufuncs directly.\n",
      "  da = self.__array_wrap__(f(self.variable.data, *args, **kwargs))\n"
     ]
    },
    {
     "name": "stdout",
     "output_type": "stream",
     "text": [
      "2022-01-13 00:00:00 end\n"
     ]
    },
    {
     "name": "stderr",
     "output_type": "stream",
     "text": [
      "/home/oonishi/Git/JEPXbatch/src/Downloader/meteo/scripts/convert_GSM_to_pref_weather.py:202: FutureWarning: xarray.ufuncs is deprecated. Instead, use numpy ufuncs directly.\n",
      "  ds1yr[\"wind\"]=xr.ufuncs.sqrt(ds1yr[\"u2m\"]**2 + ds1yr[\"v2m\"]**2)\n",
      "/home/oonishi/miniconda3/envs/ml/lib/python3.8/site-packages/xarray/core/dataarray.py:3068: FutureWarning: xarray.ufuncs is deprecated. Instead, use numpy ufuncs directly.\n",
      "  da = self.__array_wrap__(f(self.variable.data, *args, **kwargs))\n"
     ]
    },
    {
     "name": "stdout",
     "output_type": "stream",
     "text": [
      "2022-01-14 00:00:00 end\n"
     ]
    },
    {
     "name": "stderr",
     "output_type": "stream",
     "text": [
      "/home/oonishi/Git/JEPXbatch/src/Downloader/meteo/scripts/convert_GSM_to_pref_weather.py:202: FutureWarning: xarray.ufuncs is deprecated. Instead, use numpy ufuncs directly.\n",
      "  ds1yr[\"wind\"]=xr.ufuncs.sqrt(ds1yr[\"u2m\"]**2 + ds1yr[\"v2m\"]**2)\n",
      "/home/oonishi/miniconda3/envs/ml/lib/python3.8/site-packages/xarray/core/dataarray.py:3068: FutureWarning: xarray.ufuncs is deprecated. Instead, use numpy ufuncs directly.\n",
      "  da = self.__array_wrap__(f(self.variable.data, *args, **kwargs))\n"
     ]
    },
    {
     "name": "stdout",
     "output_type": "stream",
     "text": [
      "2022-01-15 00:00:00 end\n"
     ]
    },
    {
     "name": "stderr",
     "output_type": "stream",
     "text": [
      "/home/oonishi/Git/JEPXbatch/src/Downloader/meteo/scripts/convert_GSM_to_pref_weather.py:202: FutureWarning: xarray.ufuncs is deprecated. Instead, use numpy ufuncs directly.\n",
      "  ds1yr[\"wind\"]=xr.ufuncs.sqrt(ds1yr[\"u2m\"]**2 + ds1yr[\"v2m\"]**2)\n",
      "/home/oonishi/miniconda3/envs/ml/lib/python3.8/site-packages/xarray/core/dataarray.py:3068: FutureWarning: xarray.ufuncs is deprecated. Instead, use numpy ufuncs directly.\n",
      "  da = self.__array_wrap__(f(self.variable.data, *args, **kwargs))\n"
     ]
    },
    {
     "name": "stdout",
     "output_type": "stream",
     "text": [
      "2022-01-16 00:00:00 end\n"
     ]
    },
    {
     "name": "stderr",
     "output_type": "stream",
     "text": [
      "/home/oonishi/Git/JEPXbatch/src/Downloader/meteo/scripts/convert_GSM_to_pref_weather.py:202: FutureWarning: xarray.ufuncs is deprecated. Instead, use numpy ufuncs directly.\n",
      "  ds1yr[\"wind\"]=xr.ufuncs.sqrt(ds1yr[\"u2m\"]**2 + ds1yr[\"v2m\"]**2)\n",
      "/home/oonishi/miniconda3/envs/ml/lib/python3.8/site-packages/xarray/core/dataarray.py:3068: FutureWarning: xarray.ufuncs is deprecated. Instead, use numpy ufuncs directly.\n",
      "  da = self.__array_wrap__(f(self.variable.data, *args, **kwargs))\n"
     ]
    },
    {
     "name": "stdout",
     "output_type": "stream",
     "text": [
      "2022-01-17 00:00:00 end\n"
     ]
    },
    {
     "name": "stderr",
     "output_type": "stream",
     "text": [
      "/home/oonishi/Git/JEPXbatch/src/Downloader/meteo/scripts/convert_GSM_to_pref_weather.py:202: FutureWarning: xarray.ufuncs is deprecated. Instead, use numpy ufuncs directly.\n",
      "  ds1yr[\"wind\"]=xr.ufuncs.sqrt(ds1yr[\"u2m\"]**2 + ds1yr[\"v2m\"]**2)\n",
      "/home/oonishi/miniconda3/envs/ml/lib/python3.8/site-packages/xarray/core/dataarray.py:3068: FutureWarning: xarray.ufuncs is deprecated. Instead, use numpy ufuncs directly.\n",
      "  da = self.__array_wrap__(f(self.variable.data, *args, **kwargs))\n"
     ]
    },
    {
     "name": "stdout",
     "output_type": "stream",
     "text": [
      "2022-01-18 00:00:00 end\n"
     ]
    },
    {
     "name": "stderr",
     "output_type": "stream",
     "text": [
      "/home/oonishi/Git/JEPXbatch/src/Downloader/meteo/scripts/convert_GSM_to_pref_weather.py:202: FutureWarning: xarray.ufuncs is deprecated. Instead, use numpy ufuncs directly.\n",
      "  ds1yr[\"wind\"]=xr.ufuncs.sqrt(ds1yr[\"u2m\"]**2 + ds1yr[\"v2m\"]**2)\n",
      "/home/oonishi/miniconda3/envs/ml/lib/python3.8/site-packages/xarray/core/dataarray.py:3068: FutureWarning: xarray.ufuncs is deprecated. Instead, use numpy ufuncs directly.\n",
      "  da = self.__array_wrap__(f(self.variable.data, *args, **kwargs))\n"
     ]
    },
    {
     "name": "stdout",
     "output_type": "stream",
     "text": [
      "2022-01-19 00:00:00 end\n"
     ]
    },
    {
     "name": "stderr",
     "output_type": "stream",
     "text": [
      "/home/oonishi/Git/JEPXbatch/src/Downloader/meteo/scripts/convert_GSM_to_pref_weather.py:202: FutureWarning: xarray.ufuncs is deprecated. Instead, use numpy ufuncs directly.\n",
      "  ds1yr[\"wind\"]=xr.ufuncs.sqrt(ds1yr[\"u2m\"]**2 + ds1yr[\"v2m\"]**2)\n",
      "/home/oonishi/miniconda3/envs/ml/lib/python3.8/site-packages/xarray/core/dataarray.py:3068: FutureWarning: xarray.ufuncs is deprecated. Instead, use numpy ufuncs directly.\n",
      "  da = self.__array_wrap__(f(self.variable.data, *args, **kwargs))\n"
     ]
    },
    {
     "name": "stdout",
     "output_type": "stream",
     "text": [
      "2022-01-20 00:00:00 end\n"
     ]
    },
    {
     "name": "stderr",
     "output_type": "stream",
     "text": [
      "/home/oonishi/Git/JEPXbatch/src/Downloader/meteo/scripts/convert_GSM_to_pref_weather.py:202: FutureWarning: xarray.ufuncs is deprecated. Instead, use numpy ufuncs directly.\n",
      "  ds1yr[\"wind\"]=xr.ufuncs.sqrt(ds1yr[\"u2m\"]**2 + ds1yr[\"v2m\"]**2)\n",
      "/home/oonishi/miniconda3/envs/ml/lib/python3.8/site-packages/xarray/core/dataarray.py:3068: FutureWarning: xarray.ufuncs is deprecated. Instead, use numpy ufuncs directly.\n",
      "  da = self.__array_wrap__(f(self.variable.data, *args, **kwargs))\n"
     ]
    },
    {
     "name": "stdout",
     "output_type": "stream",
     "text": [
      "2022-01-21 00:00:00 end\n"
     ]
    },
    {
     "name": "stderr",
     "output_type": "stream",
     "text": [
      "/home/oonishi/Git/JEPXbatch/src/Downloader/meteo/scripts/convert_GSM_to_pref_weather.py:202: FutureWarning: xarray.ufuncs is deprecated. Instead, use numpy ufuncs directly.\n",
      "  ds1yr[\"wind\"]=xr.ufuncs.sqrt(ds1yr[\"u2m\"]**2 + ds1yr[\"v2m\"]**2)\n",
      "/home/oonishi/miniconda3/envs/ml/lib/python3.8/site-packages/xarray/core/dataarray.py:3068: FutureWarning: xarray.ufuncs is deprecated. Instead, use numpy ufuncs directly.\n",
      "  da = self.__array_wrap__(f(self.variable.data, *args, **kwargs))\n"
     ]
    },
    {
     "name": "stdout",
     "output_type": "stream",
     "text": [
      "2022-01-22 00:00:00 end\n"
     ]
    },
    {
     "name": "stderr",
     "output_type": "stream",
     "text": [
      "/home/oonishi/Git/JEPXbatch/src/Downloader/meteo/scripts/convert_GSM_to_pref_weather.py:202: FutureWarning: xarray.ufuncs is deprecated. Instead, use numpy ufuncs directly.\n",
      "  ds1yr[\"wind\"]=xr.ufuncs.sqrt(ds1yr[\"u2m\"]**2 + ds1yr[\"v2m\"]**2)\n",
      "/home/oonishi/miniconda3/envs/ml/lib/python3.8/site-packages/xarray/core/dataarray.py:3068: FutureWarning: xarray.ufuncs is deprecated. Instead, use numpy ufuncs directly.\n",
      "  da = self.__array_wrap__(f(self.variable.data, *args, **kwargs))\n"
     ]
    },
    {
     "name": "stdout",
     "output_type": "stream",
     "text": [
      "2022-01-23 00:00:00 end\n"
     ]
    },
    {
     "name": "stderr",
     "output_type": "stream",
     "text": [
      "/home/oonishi/Git/JEPXbatch/src/Downloader/meteo/scripts/convert_GSM_to_pref_weather.py:202: FutureWarning: xarray.ufuncs is deprecated. Instead, use numpy ufuncs directly.\n",
      "  ds1yr[\"wind\"]=xr.ufuncs.sqrt(ds1yr[\"u2m\"]**2 + ds1yr[\"v2m\"]**2)\n",
      "/home/oonishi/miniconda3/envs/ml/lib/python3.8/site-packages/xarray/core/dataarray.py:3068: FutureWarning: xarray.ufuncs is deprecated. Instead, use numpy ufuncs directly.\n",
      "  da = self.__array_wrap__(f(self.variable.data, *args, **kwargs))\n"
     ]
    },
    {
     "name": "stdout",
     "output_type": "stream",
     "text": [
      "2022-01-24 00:00:00 end\n"
     ]
    },
    {
     "name": "stderr",
     "output_type": "stream",
     "text": [
      "/home/oonishi/Git/JEPXbatch/src/Downloader/meteo/scripts/convert_GSM_to_pref_weather.py:202: FutureWarning: xarray.ufuncs is deprecated. Instead, use numpy ufuncs directly.\n",
      "  ds1yr[\"wind\"]=xr.ufuncs.sqrt(ds1yr[\"u2m\"]**2 + ds1yr[\"v2m\"]**2)\n",
      "/home/oonishi/miniconda3/envs/ml/lib/python3.8/site-packages/xarray/core/dataarray.py:3068: FutureWarning: xarray.ufuncs is deprecated. Instead, use numpy ufuncs directly.\n",
      "  da = self.__array_wrap__(f(self.variable.data, *args, **kwargs))\n"
     ]
    },
    {
     "name": "stdout",
     "output_type": "stream",
     "text": [
      "2022-01-25 00:00:00 end\n"
     ]
    },
    {
     "name": "stderr",
     "output_type": "stream",
     "text": [
      "/home/oonishi/Git/JEPXbatch/src/Downloader/meteo/scripts/convert_GSM_to_pref_weather.py:202: FutureWarning: xarray.ufuncs is deprecated. Instead, use numpy ufuncs directly.\n",
      "  ds1yr[\"wind\"]=xr.ufuncs.sqrt(ds1yr[\"u2m\"]**2 + ds1yr[\"v2m\"]**2)\n",
      "/home/oonishi/miniconda3/envs/ml/lib/python3.8/site-packages/xarray/core/dataarray.py:3068: FutureWarning: xarray.ufuncs is deprecated. Instead, use numpy ufuncs directly.\n",
      "  da = self.__array_wrap__(f(self.variable.data, *args, **kwargs))\n"
     ]
    },
    {
     "name": "stdout",
     "output_type": "stream",
     "text": [
      "2022-01-26 00:00:00 end\n"
     ]
    },
    {
     "name": "stderr",
     "output_type": "stream",
     "text": [
      "/home/oonishi/Git/JEPXbatch/src/Downloader/meteo/scripts/convert_GSM_to_pref_weather.py:202: FutureWarning: xarray.ufuncs is deprecated. Instead, use numpy ufuncs directly.\n",
      "  ds1yr[\"wind\"]=xr.ufuncs.sqrt(ds1yr[\"u2m\"]**2 + ds1yr[\"v2m\"]**2)\n",
      "/home/oonishi/miniconda3/envs/ml/lib/python3.8/site-packages/xarray/core/dataarray.py:3068: FutureWarning: xarray.ufuncs is deprecated. Instead, use numpy ufuncs directly.\n",
      "  da = self.__array_wrap__(f(self.variable.data, *args, **kwargs))\n"
     ]
    },
    {
     "name": "stdout",
     "output_type": "stream",
     "text": [
      "2022-01-27 00:00:00 end\n"
     ]
    },
    {
     "name": "stderr",
     "output_type": "stream",
     "text": [
      "/home/oonishi/Git/JEPXbatch/src/Downloader/meteo/scripts/convert_GSM_to_pref_weather.py:202: FutureWarning: xarray.ufuncs is deprecated. Instead, use numpy ufuncs directly.\n",
      "  ds1yr[\"wind\"]=xr.ufuncs.sqrt(ds1yr[\"u2m\"]**2 + ds1yr[\"v2m\"]**2)\n",
      "/home/oonishi/miniconda3/envs/ml/lib/python3.8/site-packages/xarray/core/dataarray.py:3068: FutureWarning: xarray.ufuncs is deprecated. Instead, use numpy ufuncs directly.\n",
      "  da = self.__array_wrap__(f(self.variable.data, *args, **kwargs))\n"
     ]
    },
    {
     "name": "stdout",
     "output_type": "stream",
     "text": [
      "2022-01-28 00:00:00 end\n"
     ]
    },
    {
     "name": "stderr",
     "output_type": "stream",
     "text": [
      "/home/oonishi/Git/JEPXbatch/src/Downloader/meteo/scripts/convert_GSM_to_pref_weather.py:202: FutureWarning: xarray.ufuncs is deprecated. Instead, use numpy ufuncs directly.\n",
      "  ds1yr[\"wind\"]=xr.ufuncs.sqrt(ds1yr[\"u2m\"]**2 + ds1yr[\"v2m\"]**2)\n",
      "/home/oonishi/miniconda3/envs/ml/lib/python3.8/site-packages/xarray/core/dataarray.py:3068: FutureWarning: xarray.ufuncs is deprecated. Instead, use numpy ufuncs directly.\n",
      "  da = self.__array_wrap__(f(self.variable.data, *args, **kwargs))\n"
     ]
    },
    {
     "name": "stdout",
     "output_type": "stream",
     "text": [
      "2022-01-29 00:00:00 end\n"
     ]
    },
    {
     "name": "stderr",
     "output_type": "stream",
     "text": [
      "/home/oonishi/Git/JEPXbatch/src/Downloader/meteo/scripts/convert_GSM_to_pref_weather.py:202: FutureWarning: xarray.ufuncs is deprecated. Instead, use numpy ufuncs directly.\n",
      "  ds1yr[\"wind\"]=xr.ufuncs.sqrt(ds1yr[\"u2m\"]**2 + ds1yr[\"v2m\"]**2)\n",
      "/home/oonishi/miniconda3/envs/ml/lib/python3.8/site-packages/xarray/core/dataarray.py:3068: FutureWarning: xarray.ufuncs is deprecated. Instead, use numpy ufuncs directly.\n",
      "  da = self.__array_wrap__(f(self.variable.data, *args, **kwargs))\n"
     ]
    },
    {
     "name": "stdout",
     "output_type": "stream",
     "text": [
      "2022-01-30 00:00:00 end\n"
     ]
    },
    {
     "name": "stderr",
     "output_type": "stream",
     "text": [
      "/home/oonishi/Git/JEPXbatch/src/Downloader/meteo/scripts/convert_GSM_to_pref_weather.py:202: FutureWarning: xarray.ufuncs is deprecated. Instead, use numpy ufuncs directly.\n",
      "  ds1yr[\"wind\"]=xr.ufuncs.sqrt(ds1yr[\"u2m\"]**2 + ds1yr[\"v2m\"]**2)\n",
      "/home/oonishi/miniconda3/envs/ml/lib/python3.8/site-packages/xarray/core/dataarray.py:3068: FutureWarning: xarray.ufuncs is deprecated. Instead, use numpy ufuncs directly.\n",
      "  da = self.__array_wrap__(f(self.variable.data, *args, **kwargs))\n"
     ]
    },
    {
     "name": "stdout",
     "output_type": "stream",
     "text": [
      "2022-01-31 00:00:00 end\n"
     ]
    },
    {
     "name": "stderr",
     "output_type": "stream",
     "text": [
      "/home/oonishi/Git/JEPXbatch/src/Downloader/meteo/scripts/convert_GSM_to_pref_weather.py:202: FutureWarning: xarray.ufuncs is deprecated. Instead, use numpy ufuncs directly.\n",
      "  ds1yr[\"wind\"]=xr.ufuncs.sqrt(ds1yr[\"u2m\"]**2 + ds1yr[\"v2m\"]**2)\n",
      "/home/oonishi/miniconda3/envs/ml/lib/python3.8/site-packages/xarray/core/dataarray.py:3068: FutureWarning: xarray.ufuncs is deprecated. Instead, use numpy ufuncs directly.\n",
      "  da = self.__array_wrap__(f(self.variable.data, *args, **kwargs))\n"
     ]
    },
    {
     "name": "stdout",
     "output_type": "stream",
     "text": [
      "2022-02-01 00:00:00 end\n"
     ]
    },
    {
     "name": "stderr",
     "output_type": "stream",
     "text": [
      "/home/oonishi/Git/JEPXbatch/src/Downloader/meteo/scripts/convert_GSM_to_pref_weather.py:202: FutureWarning: xarray.ufuncs is deprecated. Instead, use numpy ufuncs directly.\n",
      "  ds1yr[\"wind\"]=xr.ufuncs.sqrt(ds1yr[\"u2m\"]**2 + ds1yr[\"v2m\"]**2)\n",
      "/home/oonishi/miniconda3/envs/ml/lib/python3.8/site-packages/xarray/core/dataarray.py:3068: FutureWarning: xarray.ufuncs is deprecated. Instead, use numpy ufuncs directly.\n",
      "  da = self.__array_wrap__(f(self.variable.data, *args, **kwargs))\n"
     ]
    },
    {
     "name": "stdout",
     "output_type": "stream",
     "text": [
      "2022-02-02 00:00:00 end\n"
     ]
    },
    {
     "name": "stderr",
     "output_type": "stream",
     "text": [
      "/home/oonishi/Git/JEPXbatch/src/Downloader/meteo/scripts/convert_GSM_to_pref_weather.py:202: FutureWarning: xarray.ufuncs is deprecated. Instead, use numpy ufuncs directly.\n",
      "  ds1yr[\"wind\"]=xr.ufuncs.sqrt(ds1yr[\"u2m\"]**2 + ds1yr[\"v2m\"]**2)\n",
      "/home/oonishi/miniconda3/envs/ml/lib/python3.8/site-packages/xarray/core/dataarray.py:3068: FutureWarning: xarray.ufuncs is deprecated. Instead, use numpy ufuncs directly.\n",
      "  da = self.__array_wrap__(f(self.variable.data, *args, **kwargs))\n"
     ]
    },
    {
     "name": "stdout",
     "output_type": "stream",
     "text": [
      "2022-02-03 00:00:00 end\n"
     ]
    },
    {
     "name": "stderr",
     "output_type": "stream",
     "text": [
      "/home/oonishi/Git/JEPXbatch/src/Downloader/meteo/scripts/convert_GSM_to_pref_weather.py:202: FutureWarning: xarray.ufuncs is deprecated. Instead, use numpy ufuncs directly.\n",
      "  ds1yr[\"wind\"]=xr.ufuncs.sqrt(ds1yr[\"u2m\"]**2 + ds1yr[\"v2m\"]**2)\n",
      "/home/oonishi/miniconda3/envs/ml/lib/python3.8/site-packages/xarray/core/dataarray.py:3068: FutureWarning: xarray.ufuncs is deprecated. Instead, use numpy ufuncs directly.\n",
      "  da = self.__array_wrap__(f(self.variable.data, *args, **kwargs))\n"
     ]
    },
    {
     "name": "stdout",
     "output_type": "stream",
     "text": [
      "2022-02-04 00:00:00 end\n"
     ]
    },
    {
     "name": "stderr",
     "output_type": "stream",
     "text": [
      "/home/oonishi/Git/JEPXbatch/src/Downloader/meteo/scripts/convert_GSM_to_pref_weather.py:202: FutureWarning: xarray.ufuncs is deprecated. Instead, use numpy ufuncs directly.\n",
      "  ds1yr[\"wind\"]=xr.ufuncs.sqrt(ds1yr[\"u2m\"]**2 + ds1yr[\"v2m\"]**2)\n",
      "/home/oonishi/miniconda3/envs/ml/lib/python3.8/site-packages/xarray/core/dataarray.py:3068: FutureWarning: xarray.ufuncs is deprecated. Instead, use numpy ufuncs directly.\n",
      "  da = self.__array_wrap__(f(self.variable.data, *args, **kwargs))\n"
     ]
    },
    {
     "name": "stdout",
     "output_type": "stream",
     "text": [
      "2022-02-05 00:00:00 end\n"
     ]
    },
    {
     "name": "stderr",
     "output_type": "stream",
     "text": [
      "/home/oonishi/Git/JEPXbatch/src/Downloader/meteo/scripts/convert_GSM_to_pref_weather.py:202: FutureWarning: xarray.ufuncs is deprecated. Instead, use numpy ufuncs directly.\n",
      "  ds1yr[\"wind\"]=xr.ufuncs.sqrt(ds1yr[\"u2m\"]**2 + ds1yr[\"v2m\"]**2)\n",
      "/home/oonishi/miniconda3/envs/ml/lib/python3.8/site-packages/xarray/core/dataarray.py:3068: FutureWarning: xarray.ufuncs is deprecated. Instead, use numpy ufuncs directly.\n",
      "  da = self.__array_wrap__(f(self.variable.data, *args, **kwargs))\n"
     ]
    },
    {
     "name": "stdout",
     "output_type": "stream",
     "text": [
      "2022-02-06 00:00:00 end\n"
     ]
    },
    {
     "name": "stderr",
     "output_type": "stream",
     "text": [
      "/home/oonishi/Git/JEPXbatch/src/Downloader/meteo/scripts/convert_GSM_to_pref_weather.py:202: FutureWarning: xarray.ufuncs is deprecated. Instead, use numpy ufuncs directly.\n",
      "  ds1yr[\"wind\"]=xr.ufuncs.sqrt(ds1yr[\"u2m\"]**2 + ds1yr[\"v2m\"]**2)\n",
      "/home/oonishi/miniconda3/envs/ml/lib/python3.8/site-packages/xarray/core/dataarray.py:3068: FutureWarning: xarray.ufuncs is deprecated. Instead, use numpy ufuncs directly.\n",
      "  da = self.__array_wrap__(f(self.variable.data, *args, **kwargs))\n"
     ]
    },
    {
     "name": "stdout",
     "output_type": "stream",
     "text": [
      "2022-02-07 00:00:00 end\n"
     ]
    },
    {
     "name": "stderr",
     "output_type": "stream",
     "text": [
      "/home/oonishi/Git/JEPXbatch/src/Downloader/meteo/scripts/convert_GSM_to_pref_weather.py:202: FutureWarning: xarray.ufuncs is deprecated. Instead, use numpy ufuncs directly.\n",
      "  ds1yr[\"wind\"]=xr.ufuncs.sqrt(ds1yr[\"u2m\"]**2 + ds1yr[\"v2m\"]**2)\n",
      "/home/oonishi/miniconda3/envs/ml/lib/python3.8/site-packages/xarray/core/dataarray.py:3068: FutureWarning: xarray.ufuncs is deprecated. Instead, use numpy ufuncs directly.\n",
      "  da = self.__array_wrap__(f(self.variable.data, *args, **kwargs))\n"
     ]
    },
    {
     "name": "stdout",
     "output_type": "stream",
     "text": [
      "2022-02-08 00:00:00 end\n"
     ]
    },
    {
     "name": "stderr",
     "output_type": "stream",
     "text": [
      "/home/oonishi/Git/JEPXbatch/src/Downloader/meteo/scripts/convert_GSM_to_pref_weather.py:202: FutureWarning: xarray.ufuncs is deprecated. Instead, use numpy ufuncs directly.\n",
      "  ds1yr[\"wind\"]=xr.ufuncs.sqrt(ds1yr[\"u2m\"]**2 + ds1yr[\"v2m\"]**2)\n",
      "/home/oonishi/miniconda3/envs/ml/lib/python3.8/site-packages/xarray/core/dataarray.py:3068: FutureWarning: xarray.ufuncs is deprecated. Instead, use numpy ufuncs directly.\n",
      "  da = self.__array_wrap__(f(self.variable.data, *args, **kwargs))\n"
     ]
    },
    {
     "name": "stdout",
     "output_type": "stream",
     "text": [
      "2022-02-09 00:00:00 end\n"
     ]
    },
    {
     "name": "stderr",
     "output_type": "stream",
     "text": [
      "/home/oonishi/Git/JEPXbatch/src/Downloader/meteo/scripts/convert_GSM_to_pref_weather.py:202: FutureWarning: xarray.ufuncs is deprecated. Instead, use numpy ufuncs directly.\n",
      "  ds1yr[\"wind\"]=xr.ufuncs.sqrt(ds1yr[\"u2m\"]**2 + ds1yr[\"v2m\"]**2)\n",
      "/home/oonishi/miniconda3/envs/ml/lib/python3.8/site-packages/xarray/core/dataarray.py:3068: FutureWarning: xarray.ufuncs is deprecated. Instead, use numpy ufuncs directly.\n",
      "  da = self.__array_wrap__(f(self.variable.data, *args, **kwargs))\n"
     ]
    },
    {
     "name": "stdout",
     "output_type": "stream",
     "text": [
      "2022-02-10 00:00:00 end\n"
     ]
    },
    {
     "name": "stderr",
     "output_type": "stream",
     "text": [
      "/home/oonishi/Git/JEPXbatch/src/Downloader/meteo/scripts/convert_GSM_to_pref_weather.py:202: FutureWarning: xarray.ufuncs is deprecated. Instead, use numpy ufuncs directly.\n",
      "  ds1yr[\"wind\"]=xr.ufuncs.sqrt(ds1yr[\"u2m\"]**2 + ds1yr[\"v2m\"]**2)\n",
      "/home/oonishi/miniconda3/envs/ml/lib/python3.8/site-packages/xarray/core/dataarray.py:3068: FutureWarning: xarray.ufuncs is deprecated. Instead, use numpy ufuncs directly.\n",
      "  da = self.__array_wrap__(f(self.variable.data, *args, **kwargs))\n"
     ]
    },
    {
     "name": "stdout",
     "output_type": "stream",
     "text": [
      "2022-02-11 00:00:00 end\n"
     ]
    },
    {
     "name": "stderr",
     "output_type": "stream",
     "text": [
      "/home/oonishi/Git/JEPXbatch/src/Downloader/meteo/scripts/convert_GSM_to_pref_weather.py:202: FutureWarning: xarray.ufuncs is deprecated. Instead, use numpy ufuncs directly.\n",
      "  ds1yr[\"wind\"]=xr.ufuncs.sqrt(ds1yr[\"u2m\"]**2 + ds1yr[\"v2m\"]**2)\n",
      "/home/oonishi/miniconda3/envs/ml/lib/python3.8/site-packages/xarray/core/dataarray.py:3068: FutureWarning: xarray.ufuncs is deprecated. Instead, use numpy ufuncs directly.\n",
      "  da = self.__array_wrap__(f(self.variable.data, *args, **kwargs))\n"
     ]
    },
    {
     "name": "stdout",
     "output_type": "stream",
     "text": [
      "2022-02-12 00:00:00 end\n"
     ]
    },
    {
     "name": "stderr",
     "output_type": "stream",
     "text": [
      "/home/oonishi/Git/JEPXbatch/src/Downloader/meteo/scripts/convert_GSM_to_pref_weather.py:202: FutureWarning: xarray.ufuncs is deprecated. Instead, use numpy ufuncs directly.\n",
      "  ds1yr[\"wind\"]=xr.ufuncs.sqrt(ds1yr[\"u2m\"]**2 + ds1yr[\"v2m\"]**2)\n",
      "/home/oonishi/miniconda3/envs/ml/lib/python3.8/site-packages/xarray/core/dataarray.py:3068: FutureWarning: xarray.ufuncs is deprecated. Instead, use numpy ufuncs directly.\n",
      "  da = self.__array_wrap__(f(self.variable.data, *args, **kwargs))\n"
     ]
    },
    {
     "name": "stdout",
     "output_type": "stream",
     "text": [
      "2022-02-13 00:00:00 end\n"
     ]
    },
    {
     "name": "stderr",
     "output_type": "stream",
     "text": [
      "/home/oonishi/Git/JEPXbatch/src/Downloader/meteo/scripts/convert_GSM_to_pref_weather.py:202: FutureWarning: xarray.ufuncs is deprecated. Instead, use numpy ufuncs directly.\n",
      "  ds1yr[\"wind\"]=xr.ufuncs.sqrt(ds1yr[\"u2m\"]**2 + ds1yr[\"v2m\"]**2)\n",
      "/home/oonishi/miniconda3/envs/ml/lib/python3.8/site-packages/xarray/core/dataarray.py:3068: FutureWarning: xarray.ufuncs is deprecated. Instead, use numpy ufuncs directly.\n",
      "  da = self.__array_wrap__(f(self.variable.data, *args, **kwargs))\n"
     ]
    },
    {
     "name": "stdout",
     "output_type": "stream",
     "text": [
      "2022-02-14 00:00:00 end\n"
     ]
    },
    {
     "name": "stderr",
     "output_type": "stream",
     "text": [
      "/home/oonishi/Git/JEPXbatch/src/Downloader/meteo/scripts/convert_GSM_to_pref_weather.py:202: FutureWarning: xarray.ufuncs is deprecated. Instead, use numpy ufuncs directly.\n",
      "  ds1yr[\"wind\"]=xr.ufuncs.sqrt(ds1yr[\"u2m\"]**2 + ds1yr[\"v2m\"]**2)\n",
      "/home/oonishi/miniconda3/envs/ml/lib/python3.8/site-packages/xarray/core/dataarray.py:3068: FutureWarning: xarray.ufuncs is deprecated. Instead, use numpy ufuncs directly.\n",
      "  da = self.__array_wrap__(f(self.variable.data, *args, **kwargs))\n"
     ]
    },
    {
     "name": "stdout",
     "output_type": "stream",
     "text": [
      "2022-02-15 00:00:00 end\n"
     ]
    },
    {
     "name": "stderr",
     "output_type": "stream",
     "text": [
      "/home/oonishi/Git/JEPXbatch/src/Downloader/meteo/scripts/convert_GSM_to_pref_weather.py:202: FutureWarning: xarray.ufuncs is deprecated. Instead, use numpy ufuncs directly.\n",
      "  ds1yr[\"wind\"]=xr.ufuncs.sqrt(ds1yr[\"u2m\"]**2 + ds1yr[\"v2m\"]**2)\n",
      "/home/oonishi/miniconda3/envs/ml/lib/python3.8/site-packages/xarray/core/dataarray.py:3068: FutureWarning: xarray.ufuncs is deprecated. Instead, use numpy ufuncs directly.\n",
      "  da = self.__array_wrap__(f(self.variable.data, *args, **kwargs))\n"
     ]
    },
    {
     "name": "stdout",
     "output_type": "stream",
     "text": [
      "2022-02-16 00:00:00 end\n"
     ]
    },
    {
     "name": "stderr",
     "output_type": "stream",
     "text": [
      "/home/oonishi/Git/JEPXbatch/src/Downloader/meteo/scripts/convert_GSM_to_pref_weather.py:202: FutureWarning: xarray.ufuncs is deprecated. Instead, use numpy ufuncs directly.\n",
      "  ds1yr[\"wind\"]=xr.ufuncs.sqrt(ds1yr[\"u2m\"]**2 + ds1yr[\"v2m\"]**2)\n",
      "/home/oonishi/miniconda3/envs/ml/lib/python3.8/site-packages/xarray/core/dataarray.py:3068: FutureWarning: xarray.ufuncs is deprecated. Instead, use numpy ufuncs directly.\n",
      "  da = self.__array_wrap__(f(self.variable.data, *args, **kwargs))\n"
     ]
    },
    {
     "name": "stdout",
     "output_type": "stream",
     "text": [
      "2022-02-17 00:00:00 end\n"
     ]
    },
    {
     "name": "stderr",
     "output_type": "stream",
     "text": [
      "/home/oonishi/Git/JEPXbatch/src/Downloader/meteo/scripts/convert_GSM_to_pref_weather.py:202: FutureWarning: xarray.ufuncs is deprecated. Instead, use numpy ufuncs directly.\n",
      "  ds1yr[\"wind\"]=xr.ufuncs.sqrt(ds1yr[\"u2m\"]**2 + ds1yr[\"v2m\"]**2)\n",
      "/home/oonishi/miniconda3/envs/ml/lib/python3.8/site-packages/xarray/core/dataarray.py:3068: FutureWarning: xarray.ufuncs is deprecated. Instead, use numpy ufuncs directly.\n",
      "  da = self.__array_wrap__(f(self.variable.data, *args, **kwargs))\n"
     ]
    },
    {
     "name": "stdout",
     "output_type": "stream",
     "text": [
      "2022-02-18 00:00:00 end\n"
     ]
    },
    {
     "name": "stderr",
     "output_type": "stream",
     "text": [
      "/home/oonishi/Git/JEPXbatch/src/Downloader/meteo/scripts/convert_GSM_to_pref_weather.py:202: FutureWarning: xarray.ufuncs is deprecated. Instead, use numpy ufuncs directly.\n",
      "  ds1yr[\"wind\"]=xr.ufuncs.sqrt(ds1yr[\"u2m\"]**2 + ds1yr[\"v2m\"]**2)\n",
      "/home/oonishi/miniconda3/envs/ml/lib/python3.8/site-packages/xarray/core/dataarray.py:3068: FutureWarning: xarray.ufuncs is deprecated. Instead, use numpy ufuncs directly.\n",
      "  da = self.__array_wrap__(f(self.variable.data, *args, **kwargs))\n"
     ]
    },
    {
     "name": "stdout",
     "output_type": "stream",
     "text": [
      "2022-02-19 00:00:00 end\n"
     ]
    },
    {
     "name": "stderr",
     "output_type": "stream",
     "text": [
      "/home/oonishi/Git/JEPXbatch/src/Downloader/meteo/scripts/convert_GSM_to_pref_weather.py:202: FutureWarning: xarray.ufuncs is deprecated. Instead, use numpy ufuncs directly.\n",
      "  ds1yr[\"wind\"]=xr.ufuncs.sqrt(ds1yr[\"u2m\"]**2 + ds1yr[\"v2m\"]**2)\n",
      "/home/oonishi/miniconda3/envs/ml/lib/python3.8/site-packages/xarray/core/dataarray.py:3068: FutureWarning: xarray.ufuncs is deprecated. Instead, use numpy ufuncs directly.\n",
      "  da = self.__array_wrap__(f(self.variable.data, *args, **kwargs))\n"
     ]
    },
    {
     "name": "stdout",
     "output_type": "stream",
     "text": [
      "2022-02-20 00:00:00 end\n"
     ]
    },
    {
     "name": "stderr",
     "output_type": "stream",
     "text": [
      "/home/oonishi/Git/JEPXbatch/src/Downloader/meteo/scripts/convert_GSM_to_pref_weather.py:202: FutureWarning: xarray.ufuncs is deprecated. Instead, use numpy ufuncs directly.\n",
      "  ds1yr[\"wind\"]=xr.ufuncs.sqrt(ds1yr[\"u2m\"]**2 + ds1yr[\"v2m\"]**2)\n",
      "/home/oonishi/miniconda3/envs/ml/lib/python3.8/site-packages/xarray/core/dataarray.py:3068: FutureWarning: xarray.ufuncs is deprecated. Instead, use numpy ufuncs directly.\n",
      "  da = self.__array_wrap__(f(self.variable.data, *args, **kwargs))\n"
     ]
    },
    {
     "name": "stdout",
     "output_type": "stream",
     "text": [
      "2022-02-21 00:00:00 end\n"
     ]
    },
    {
     "name": "stderr",
     "output_type": "stream",
     "text": [
      "/home/oonishi/Git/JEPXbatch/src/Downloader/meteo/scripts/convert_GSM_to_pref_weather.py:202: FutureWarning: xarray.ufuncs is deprecated. Instead, use numpy ufuncs directly.\n",
      "  ds1yr[\"wind\"]=xr.ufuncs.sqrt(ds1yr[\"u2m\"]**2 + ds1yr[\"v2m\"]**2)\n",
      "/home/oonishi/miniconda3/envs/ml/lib/python3.8/site-packages/xarray/core/dataarray.py:3068: FutureWarning: xarray.ufuncs is deprecated. Instead, use numpy ufuncs directly.\n",
      "  da = self.__array_wrap__(f(self.variable.data, *args, **kwargs))\n"
     ]
    },
    {
     "name": "stdout",
     "output_type": "stream",
     "text": [
      "2022-02-22 00:00:00 end\n"
     ]
    },
    {
     "name": "stderr",
     "output_type": "stream",
     "text": [
      "/home/oonishi/Git/JEPXbatch/src/Downloader/meteo/scripts/convert_GSM_to_pref_weather.py:202: FutureWarning: xarray.ufuncs is deprecated. Instead, use numpy ufuncs directly.\n",
      "  ds1yr[\"wind\"]=xr.ufuncs.sqrt(ds1yr[\"u2m\"]**2 + ds1yr[\"v2m\"]**2)\n",
      "/home/oonishi/miniconda3/envs/ml/lib/python3.8/site-packages/xarray/core/dataarray.py:3068: FutureWarning: xarray.ufuncs is deprecated. Instead, use numpy ufuncs directly.\n",
      "  da = self.__array_wrap__(f(self.variable.data, *args, **kwargs))\n"
     ]
    },
    {
     "name": "stdout",
     "output_type": "stream",
     "text": [
      "2022-02-23 00:00:00 end\n"
     ]
    },
    {
     "name": "stderr",
     "output_type": "stream",
     "text": [
      "/home/oonishi/Git/JEPXbatch/src/Downloader/meteo/scripts/convert_GSM_to_pref_weather.py:202: FutureWarning: xarray.ufuncs is deprecated. Instead, use numpy ufuncs directly.\n",
      "  ds1yr[\"wind\"]=xr.ufuncs.sqrt(ds1yr[\"u2m\"]**2 + ds1yr[\"v2m\"]**2)\n",
      "/home/oonishi/miniconda3/envs/ml/lib/python3.8/site-packages/xarray/core/dataarray.py:3068: FutureWarning: xarray.ufuncs is deprecated. Instead, use numpy ufuncs directly.\n",
      "  da = self.__array_wrap__(f(self.variable.data, *args, **kwargs))\n"
     ]
    },
    {
     "name": "stdout",
     "output_type": "stream",
     "text": [
      "2022-02-24 00:00:00 end\n"
     ]
    },
    {
     "name": "stderr",
     "output_type": "stream",
     "text": [
      "/home/oonishi/Git/JEPXbatch/src/Downloader/meteo/scripts/convert_GSM_to_pref_weather.py:202: FutureWarning: xarray.ufuncs is deprecated. Instead, use numpy ufuncs directly.\n",
      "  ds1yr[\"wind\"]=xr.ufuncs.sqrt(ds1yr[\"u2m\"]**2 + ds1yr[\"v2m\"]**2)\n",
      "/home/oonishi/miniconda3/envs/ml/lib/python3.8/site-packages/xarray/core/dataarray.py:3068: FutureWarning: xarray.ufuncs is deprecated. Instead, use numpy ufuncs directly.\n",
      "  da = self.__array_wrap__(f(self.variable.data, *args, **kwargs))\n"
     ]
    },
    {
     "name": "stdout",
     "output_type": "stream",
     "text": [
      "2022-02-25 00:00:00 end\n"
     ]
    },
    {
     "name": "stderr",
     "output_type": "stream",
     "text": [
      "/home/oonishi/Git/JEPXbatch/src/Downloader/meteo/scripts/convert_GSM_to_pref_weather.py:202: FutureWarning: xarray.ufuncs is deprecated. Instead, use numpy ufuncs directly.\n",
      "  ds1yr[\"wind\"]=xr.ufuncs.sqrt(ds1yr[\"u2m\"]**2 + ds1yr[\"v2m\"]**2)\n",
      "/home/oonishi/miniconda3/envs/ml/lib/python3.8/site-packages/xarray/core/dataarray.py:3068: FutureWarning: xarray.ufuncs is deprecated. Instead, use numpy ufuncs directly.\n",
      "  da = self.__array_wrap__(f(self.variable.data, *args, **kwargs))\n"
     ]
    },
    {
     "name": "stdout",
     "output_type": "stream",
     "text": [
      "2022-02-26 00:00:00 end\n"
     ]
    },
    {
     "name": "stderr",
     "output_type": "stream",
     "text": [
      "/home/oonishi/Git/JEPXbatch/src/Downloader/meteo/scripts/convert_GSM_to_pref_weather.py:202: FutureWarning: xarray.ufuncs is deprecated. Instead, use numpy ufuncs directly.\n",
      "  ds1yr[\"wind\"]=xr.ufuncs.sqrt(ds1yr[\"u2m\"]**2 + ds1yr[\"v2m\"]**2)\n",
      "/home/oonishi/miniconda3/envs/ml/lib/python3.8/site-packages/xarray/core/dataarray.py:3068: FutureWarning: xarray.ufuncs is deprecated. Instead, use numpy ufuncs directly.\n",
      "  da = self.__array_wrap__(f(self.variable.data, *args, **kwargs))\n"
     ]
    },
    {
     "name": "stdout",
     "output_type": "stream",
     "text": [
      "2022-02-27 00:00:00 end\n"
     ]
    },
    {
     "name": "stderr",
     "output_type": "stream",
     "text": [
      "/home/oonishi/Git/JEPXbatch/src/Downloader/meteo/scripts/convert_GSM_to_pref_weather.py:202: FutureWarning: xarray.ufuncs is deprecated. Instead, use numpy ufuncs directly.\n",
      "  ds1yr[\"wind\"]=xr.ufuncs.sqrt(ds1yr[\"u2m\"]**2 + ds1yr[\"v2m\"]**2)\n",
      "/home/oonishi/miniconda3/envs/ml/lib/python3.8/site-packages/xarray/core/dataarray.py:3068: FutureWarning: xarray.ufuncs is deprecated. Instead, use numpy ufuncs directly.\n",
      "  da = self.__array_wrap__(f(self.variable.data, *args, **kwargs))\n"
     ]
    },
    {
     "name": "stdout",
     "output_type": "stream",
     "text": [
      "2022-02-28 00:00:00 end\n"
     ]
    }
   ],
   "source": [
    "for init_date in init_dates:\n",
    "    init_time=init_date.strftime(\"%Y%m%d1200\")\n",
    "    ds=convert_GSM_to_pref_weather.grib2_to_netcdf(init_time, True)\n",
    "    dfout=convert_GSM_to_pref_weather.netcdf_to_dataframe(ds, init_time)\n",
    "    dfdict=convert_GSM_to_pref_weather.split_to_each_prefecture(dfout, init_time)\n",
    "    \n",
    "    #出力処理\n",
    "    init_time=pd.to_datetime(init_time,format=\"%Y%m%d%H%M\")+\\\n",
    "            pd.offsets.Hour(9)+ pd.offsets.Hour(1)\n",
    "    sdate=init_time.strftime(\"%Y%m%d%H%M00JST\")\n",
    "    \n",
    "    for tdfk in dfdict.keys():\n",
    "        os.makedirs(CONFIG[\"GSM_CSVDIR\"]+f\"/{tdfk}/{init_time.year:04d}/{init_time.month:02d}\", exist_ok=True)\n",
    "        tmp=dfdict[tdfk]\n",
    "        tmp.to_csv(CONFIG[\"GSM_CSVDIR\"]+f\"/{tdfk}/{init_time.year:04d}/{init_time.month:02d}/GSM_{tdfk}_{sdate}.csv\")\n",
    "    print(init_date, \"end\")"
   ]
  },
  {
   "cell_type": "code",
   "execution_count": 4,
   "id": "9eea5b51-e165-4f45-85af-87dfcb0fb979",
   "metadata": {},
   "outputs": [
    {
     "data": {
      "text/html": [
       "<div>\n",
       "<style scoped>\n",
       "    .dataframe tbody tr th:only-of-type {\n",
       "        vertical-align: middle;\n",
       "    }\n",
       "\n",
       "    .dataframe tbody tr th {\n",
       "        vertical-align: top;\n",
       "    }\n",
       "\n",
       "    .dataframe thead th {\n",
       "        text-align: right;\n",
       "    }\n",
       "</style>\n",
       "<table border=\"1\" class=\"dataframe\">\n",
       "  <thead>\n",
       "    <tr style=\"text-align: right;\">\n",
       "      <th></th>\n",
       "      <th>tdfk</th>\n",
       "      <th>precip</th>\n",
       "      <th>T2m</th>\n",
       "      <th>solar_rad_flux</th>\n",
       "      <th>u2m</th>\n",
       "      <th>v2m</th>\n",
       "      <th>rh</th>\n",
       "      <th>wind</th>\n",
       "      <th>DI</th>\n",
       "      <th>WBGT</th>\n",
       "      <th>it_time</th>\n",
       "      <th>elapse_days</th>\n",
       "      <th>elapse_hours</th>\n",
       "    </tr>\n",
       "    <tr>\n",
       "      <th>date_time</th>\n",
       "      <th></th>\n",
       "      <th></th>\n",
       "      <th></th>\n",
       "      <th></th>\n",
       "      <th></th>\n",
       "      <th></th>\n",
       "      <th></th>\n",
       "      <th></th>\n",
       "      <th></th>\n",
       "      <th></th>\n",
       "      <th></th>\n",
       "      <th></th>\n",
       "      <th></th>\n",
       "    </tr>\n",
       "  </thead>\n",
       "  <tbody>\n",
       "    <tr>\n",
       "      <th>2022-02-28 22:00:00</th>\n",
       "      <td>Nagano</td>\n",
       "      <td>2.307103e-05</td>\n",
       "      <td>-5.341202</td>\n",
       "      <td>0.000000</td>\n",
       "      <td>0.497431</td>\n",
       "      <td>0.280048</td>\n",
       "      <td>89.157506</td>\n",
       "      <td>1.878834</td>\n",
       "      <td>24.476681</td>\n",
       "      <td>-2.099009</td>\n",
       "      <td>2022-02-28 22:00:00</td>\n",
       "      <td>0</td>\n",
       "      <td>0</td>\n",
       "    </tr>\n",
       "    <tr>\n",
       "      <th>2022-02-28 23:00:00</th>\n",
       "      <td>Nagano</td>\n",
       "      <td>5.846159e-05</td>\n",
       "      <td>-5.152086</td>\n",
       "      <td>0.000000</td>\n",
       "      <td>0.441001</td>\n",
       "      <td>0.383880</td>\n",
       "      <td>87.940291</td>\n",
       "      <td>1.873711</td>\n",
       "      <td>25.032885</td>\n",
       "      <td>-1.937708</td>\n",
       "      <td>2022-02-28 22:00:00</td>\n",
       "      <td>0</td>\n",
       "      <td>1</td>\n",
       "    </tr>\n",
       "    <tr>\n",
       "      <th>2022-03-01 00:00:00</th>\n",
       "      <td>Nagano</td>\n",
       "      <td>1.063531e-07</td>\n",
       "      <td>-5.364024</td>\n",
       "      <td>0.000000</td>\n",
       "      <td>0.522592</td>\n",
       "      <td>0.381394</td>\n",
       "      <td>87.009837</td>\n",
       "      <td>1.920361</td>\n",
       "      <td>24.870516</td>\n",
       "      <td>-2.167451</td>\n",
       "      <td>2022-02-28 22:00:00</td>\n",
       "      <td>0</td>\n",
       "      <td>2</td>\n",
       "    </tr>\n",
       "    <tr>\n",
       "      <th>2022-03-01 01:00:00</th>\n",
       "      <td>Nagano</td>\n",
       "      <td>1.225048e-05</td>\n",
       "      <td>-5.602278</td>\n",
       "      <td>0.000000</td>\n",
       "      <td>0.526467</td>\n",
       "      <td>0.543525</td>\n",
       "      <td>85.214802</td>\n",
       "      <td>2.012598</td>\n",
       "      <td>24.844347</td>\n",
       "      <td>-2.441486</td>\n",
       "      <td>2022-02-28 22:00:00</td>\n",
       "      <td>0</td>\n",
       "      <td>3</td>\n",
       "    </tr>\n",
       "    <tr>\n",
       "      <th>2022-03-01 02:00:00</th>\n",
       "      <td>Nagano</td>\n",
       "      <td>1.063531e-07</td>\n",
       "      <td>-5.683780</td>\n",
       "      <td>0.000000</td>\n",
       "      <td>0.533205</td>\n",
       "      <td>0.545002</td>\n",
       "      <td>82.648020</td>\n",
       "      <td>2.058627</td>\n",
       "      <td>25.234329</td>\n",
       "      <td>-2.573785</td>\n",
       "      <td>2022-02-28 22:00:00</td>\n",
       "      <td>0</td>\n",
       "      <td>4</td>\n",
       "    </tr>\n",
       "    <tr>\n",
       "      <th>...</th>\n",
       "      <td>...</td>\n",
       "      <td>...</td>\n",
       "      <td>...</td>\n",
       "      <td>...</td>\n",
       "      <td>...</td>\n",
       "      <td>...</td>\n",
       "      <td>...</td>\n",
       "      <td>...</td>\n",
       "      <td>...</td>\n",
       "      <td>...</td>\n",
       "      <td>...</td>\n",
       "      <td>...</td>\n",
       "      <td>...</td>\n",
       "    </tr>\n",
       "    <tr>\n",
       "      <th>2022-03-11 09:00:00</th>\n",
       "      <td>Nagano</td>\n",
       "      <td>3.546382e-04</td>\n",
       "      <td>5.767146</td>\n",
       "      <td>228.659736</td>\n",
       "      <td>1.024958</td>\n",
       "      <td>0.098796</td>\n",
       "      <td>59.815879</td>\n",
       "      <td>1.239330</td>\n",
       "      <td>45.848640</td>\n",
       "      <td>7.816465</td>\n",
       "      <td>2022-02-28 22:00:00</td>\n",
       "      <td>10</td>\n",
       "      <td>251</td>\n",
       "    </tr>\n",
       "    <tr>\n",
       "      <th>2022-03-11 12:00:00</th>\n",
       "      <td>Nagano</td>\n",
       "      <td>3.492687e-04</td>\n",
       "      <td>10.471144</td>\n",
       "      <td>724.009710</td>\n",
       "      <td>1.035660</td>\n",
       "      <td>-0.217660</td>\n",
       "      <td>42.077067</td>\n",
       "      <td>1.535305</td>\n",
       "      <td>53.162508</td>\n",
       "      <td>14.474770</td>\n",
       "      <td>2022-02-28 22:00:00</td>\n",
       "      <td>10</td>\n",
       "      <td>254</td>\n",
       "    </tr>\n",
       "    <tr>\n",
       "      <th>2022-03-11 15:00:00</th>\n",
       "      <td>Nagano</td>\n",
       "      <td>7.930309e-04</td>\n",
       "      <td>11.435173</td>\n",
       "      <td>714.627591</td>\n",
       "      <td>0.936051</td>\n",
       "      <td>-0.540112</td>\n",
       "      <td>40.625514</td>\n",
       "      <td>1.634659</td>\n",
       "      <td>54.337456</td>\n",
       "      <td>15.079844</td>\n",
       "      <td>2022-02-28 22:00:00</td>\n",
       "      <td>10</td>\n",
       "      <td>257</td>\n",
       "    </tr>\n",
       "    <tr>\n",
       "      <th>2022-03-11 18:00:00</th>\n",
       "      <td>Nagano</td>\n",
       "      <td>2.662347e-04</td>\n",
       "      <td>2.639418</td>\n",
       "      <td>219.502064</td>\n",
       "      <td>0.494977</td>\n",
       "      <td>-0.091394</td>\n",
       "      <td>87.241729</td>\n",
       "      <td>1.307851</td>\n",
       "      <td>38.223395</td>\n",
       "      <td>6.162225</td>\n",
       "      <td>2022-02-28 22:00:00</td>\n",
       "      <td>10</td>\n",
       "      <td>260</td>\n",
       "    </tr>\n",
       "    <tr>\n",
       "      <th>2022-03-11 21:00:00</th>\n",
       "      <td>Nagano</td>\n",
       "      <td>1.751476e-03</td>\n",
       "      <td>-1.574391</td>\n",
       "      <td>0.007999</td>\n",
       "      <td>0.275843</td>\n",
       "      <td>0.239258</td>\n",
       "      <td>93.274992</td>\n",
       "      <td>2.185921</td>\n",
       "      <td>30.253523</td>\n",
       "      <td>1.783644</td>\n",
       "      <td>2022-02-28 22:00:00</td>\n",
       "      <td>10</td>\n",
       "      <td>263</td>\n",
       "    </tr>\n",
       "  </tbody>\n",
       "</table>\n",
       "<p>144 rows × 13 columns</p>\n",
       "</div>"
      ],
      "text/plain": [
       "                       tdfk        precip        T2m  solar_rad_flux  \\\n",
       "date_time                                                              \n",
       "2022-02-28 22:00:00  Nagano  2.307103e-05  -5.341202        0.000000   \n",
       "2022-02-28 23:00:00  Nagano  5.846159e-05  -5.152086        0.000000   \n",
       "2022-03-01 00:00:00  Nagano  1.063531e-07  -5.364024        0.000000   \n",
       "2022-03-01 01:00:00  Nagano  1.225048e-05  -5.602278        0.000000   \n",
       "2022-03-01 02:00:00  Nagano  1.063531e-07  -5.683780        0.000000   \n",
       "...                     ...           ...        ...             ...   \n",
       "2022-03-11 09:00:00  Nagano  3.546382e-04   5.767146      228.659736   \n",
       "2022-03-11 12:00:00  Nagano  3.492687e-04  10.471144      724.009710   \n",
       "2022-03-11 15:00:00  Nagano  7.930309e-04  11.435173      714.627591   \n",
       "2022-03-11 18:00:00  Nagano  2.662347e-04   2.639418      219.502064   \n",
       "2022-03-11 21:00:00  Nagano  1.751476e-03  -1.574391        0.007999   \n",
       "\n",
       "                          u2m       v2m         rh      wind         DI  \\\n",
       "date_time                                                                 \n",
       "2022-02-28 22:00:00  0.497431  0.280048  89.157506  1.878834  24.476681   \n",
       "2022-02-28 23:00:00  0.441001  0.383880  87.940291  1.873711  25.032885   \n",
       "2022-03-01 00:00:00  0.522592  0.381394  87.009837  1.920361  24.870516   \n",
       "2022-03-01 01:00:00  0.526467  0.543525  85.214802  2.012598  24.844347   \n",
       "2022-03-01 02:00:00  0.533205  0.545002  82.648020  2.058627  25.234329   \n",
       "...                       ...       ...        ...       ...        ...   \n",
       "2022-03-11 09:00:00  1.024958  0.098796  59.815879  1.239330  45.848640   \n",
       "2022-03-11 12:00:00  1.035660 -0.217660  42.077067  1.535305  53.162508   \n",
       "2022-03-11 15:00:00  0.936051 -0.540112  40.625514  1.634659  54.337456   \n",
       "2022-03-11 18:00:00  0.494977 -0.091394  87.241729  1.307851  38.223395   \n",
       "2022-03-11 21:00:00  0.275843  0.239258  93.274992  2.185921  30.253523   \n",
       "\n",
       "                          WBGT             it_time  elapse_days  elapse_hours  \n",
       "date_time                                                                      \n",
       "2022-02-28 22:00:00  -2.099009 2022-02-28 22:00:00            0             0  \n",
       "2022-02-28 23:00:00  -1.937708 2022-02-28 22:00:00            0             1  \n",
       "2022-03-01 00:00:00  -2.167451 2022-02-28 22:00:00            0             2  \n",
       "2022-03-01 01:00:00  -2.441486 2022-02-28 22:00:00            0             3  \n",
       "2022-03-01 02:00:00  -2.573785 2022-02-28 22:00:00            0             4  \n",
       "...                        ...                 ...          ...           ...  \n",
       "2022-03-11 09:00:00   7.816465 2022-02-28 22:00:00           10           251  \n",
       "2022-03-11 12:00:00  14.474770 2022-02-28 22:00:00           10           254  \n",
       "2022-03-11 15:00:00  15.079844 2022-02-28 22:00:00           10           257  \n",
       "2022-03-11 18:00:00   6.162225 2022-02-28 22:00:00           10           260  \n",
       "2022-03-11 21:00:00   1.783644 2022-02-28 22:00:00           10           263  \n",
       "\n",
       "[144 rows x 13 columns]"
      ]
     },
     "execution_count": 4,
     "metadata": {},
     "output_type": "execute_result"
    }
   ],
   "source": [
    "tmp"
   ]
  },
  {
   "cell_type": "code",
   "execution_count": null,
   "id": "7fc662e7-886c-4ad3-8e0b-366cc49fc2aa",
   "metadata": {},
   "outputs": [],
   "source": [
    "os."
   ]
  },
  {
   "cell_type": "code",
   "execution_count": null,
   "id": "04c7cc5a-8103-4ec8-9d02-86ce1d5d7aeb",
   "metadata": {},
   "outputs": [],
   "source": []
  }
 ],
 "metadata": {
  "kernelspec": {
   "display_name": "ml",
   "language": "python",
   "name": "ml"
  },
  "language_info": {
   "codemirror_mode": {
    "name": "ipython",
    "version": 3
   },
   "file_extension": ".py",
   "mimetype": "text/x-python",
   "name": "python",
   "nbconvert_exporter": "python",
   "pygments_lexer": "ipython3",
   "version": "3.8.12"
  }
 },
 "nbformat": 4,
 "nbformat_minor": 5
}
